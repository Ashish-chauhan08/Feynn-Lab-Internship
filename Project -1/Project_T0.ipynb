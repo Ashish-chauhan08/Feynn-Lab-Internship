{
  "nbformat": 4,
  "nbformat_minor": 0,
  "metadata": {
    "colab": {
      "provenance": []
    },
    "kernelspec": {
      "name": "python3",
      "display_name": "Python 3"
    },
    "language_info": {
      "name": "python"
    }
  },
  "cells": [
    {
      "cell_type": "code",
      "execution_count": 1,
      "metadata": {
        "id": "Q0OeRI0DIFHl"
      },
      "outputs": [],
      "source": [
        "! pip install -q kaggle"
      ]
    },
    {
      "cell_type": "code",
      "source": [
        "!mkdir ~/.kaggle"
      ],
      "metadata": {
        "id": "Bh64MKkyIfcx"
      },
      "execution_count": 2,
      "outputs": []
    },
    {
      "cell_type": "code",
      "source": [
        "!cp kaggle.json ~/.kaggle"
      ],
      "metadata": {
        "id": "KGjDM1xGIh5M"
      },
      "execution_count": 3,
      "outputs": []
    },
    {
      "cell_type": "code",
      "source": [
        "! kaggle datasets download -d rajatsurana979/fast-food-sales-report"
      ],
      "metadata": {
        "colab": {
          "base_uri": "https://localhost:8080/"
        },
        "id": "WCVJTTBjIkic",
        "outputId": "dc579825-65be-4636-d514-33ce633c0870"
      },
      "execution_count": 4,
      "outputs": [
        {
          "output_type": "stream",
          "name": "stdout",
          "text": [
            "Warning: Your Kaggle API key is readable by other users on this system! To fix this, you can run 'chmod 600 /root/.kaggle/kaggle.json'\n",
            "Downloading fast-food-sales-report.zip to /content\n",
            "  0% 0.00/122k [00:00<?, ?B/s]\n",
            "100% 122k/122k [00:00<00:00, 70.9MB/s]\n"
          ]
        }
      ]
    },
    {
      "cell_type": "code",
      "source": [
        "!unzip /content/fast-food-sales-report.zip"
      ],
      "metadata": {
        "colab": {
          "base_uri": "https://localhost:8080/"
        },
        "id": "Ov8ucDzUInuT",
        "outputId": "53ab2dbb-ba31-4b51-be56-cc3e99e1982b"
      },
      "execution_count": 5,
      "outputs": [
        {
          "output_type": "stream",
          "name": "stdout",
          "text": [
            "Archive:  /content/fast-food-sales-report.zip\n",
            "  inflating: Balaji Fast Food Sales.csv  \n",
            "  inflating: category distribution.JPG  \n"
          ]
        }
      ]
    },
    {
      "cell_type": "code",
      "source": [
        "import numpy as np\n",
        "import pandas as pd\n",
        "import seaborn as sns\n",
        "import matplotlib.pyplot as plt\n",
        "import plotly.express as px\n",
        "\n",
        "from sklearn.model_selection import train_test_split\n",
        "from sklearn.preprocessing import LabelEncoder, MinMaxScaler\n",
        "from sklearn.metrics import r2_score\n"
      ],
      "metadata": {
        "id": "hsDUUvf7IuAT"
      },
      "execution_count": 6,
      "outputs": []
    },
    {
      "cell_type": "markdown",
      "source": [
        "# Data Preprocessing - 1"
      ],
      "metadata": {
        "id": "SL_aFSyIK_TM"
      }
    },
    {
      "cell_type": "code",
      "source": [
        "df = pd.read_csv('/content/Balaji Fast Food Sales.csv')\n",
        "df.head()"
      ],
      "metadata": {
        "colab": {
          "base_uri": "https://localhost:8080/",
          "height": 278
        },
        "id": "LJObdU08JK42",
        "outputId": "a09e72d9-d7e5-4f40-cfd5-5830badc1897"
      },
      "execution_count": 7,
      "outputs": [
        {
          "output_type": "execute_result",
          "data": {
            "text/plain": [
              "   order_id        date        item_name  item_type  item_price  quantity  \\\n",
              "0         1  07-03-2022         Aalopuri   Fastfood          20        13   \n",
              "1         2   8/23/2022          Vadapav   Fastfood          20        15   \n",
              "2         3  11/20/2022          Vadapav   Fastfood          20         1   \n",
              "3         4  02-03-2023  Sugarcane juice  Beverages          25         6   \n",
              "4         5  10-02-2022  Sugarcane juice  Beverages          25         8   \n",
              "\n",
              "   transaction_amount transaction_type received_by time_of_sale  \n",
              "0                 260              NaN         Mr.        Night  \n",
              "1                 300             Cash         Mr.    Afternoon  \n",
              "2                  20             Cash         Mr.    Afternoon  \n",
              "3                 150           Online         Mr.        Night  \n",
              "4                 200           Online         Mr.      Evening  "
            ],
            "text/html": [
              "\n",
              "  <div id=\"df-b271602d-e346-4186-a6dc-fbeaacae8ce1\" class=\"colab-df-container\">\n",
              "    <div>\n",
              "<style scoped>\n",
              "    .dataframe tbody tr th:only-of-type {\n",
              "        vertical-align: middle;\n",
              "    }\n",
              "\n",
              "    .dataframe tbody tr th {\n",
              "        vertical-align: top;\n",
              "    }\n",
              "\n",
              "    .dataframe thead th {\n",
              "        text-align: right;\n",
              "    }\n",
              "</style>\n",
              "<table border=\"1\" class=\"dataframe\">\n",
              "  <thead>\n",
              "    <tr style=\"text-align: right;\">\n",
              "      <th></th>\n",
              "      <th>order_id</th>\n",
              "      <th>date</th>\n",
              "      <th>item_name</th>\n",
              "      <th>item_type</th>\n",
              "      <th>item_price</th>\n",
              "      <th>quantity</th>\n",
              "      <th>transaction_amount</th>\n",
              "      <th>transaction_type</th>\n",
              "      <th>received_by</th>\n",
              "      <th>time_of_sale</th>\n",
              "    </tr>\n",
              "  </thead>\n",
              "  <tbody>\n",
              "    <tr>\n",
              "      <th>0</th>\n",
              "      <td>1</td>\n",
              "      <td>07-03-2022</td>\n",
              "      <td>Aalopuri</td>\n",
              "      <td>Fastfood</td>\n",
              "      <td>20</td>\n",
              "      <td>13</td>\n",
              "      <td>260</td>\n",
              "      <td>NaN</td>\n",
              "      <td>Mr.</td>\n",
              "      <td>Night</td>\n",
              "    </tr>\n",
              "    <tr>\n",
              "      <th>1</th>\n",
              "      <td>2</td>\n",
              "      <td>8/23/2022</td>\n",
              "      <td>Vadapav</td>\n",
              "      <td>Fastfood</td>\n",
              "      <td>20</td>\n",
              "      <td>15</td>\n",
              "      <td>300</td>\n",
              "      <td>Cash</td>\n",
              "      <td>Mr.</td>\n",
              "      <td>Afternoon</td>\n",
              "    </tr>\n",
              "    <tr>\n",
              "      <th>2</th>\n",
              "      <td>3</td>\n",
              "      <td>11/20/2022</td>\n",
              "      <td>Vadapav</td>\n",
              "      <td>Fastfood</td>\n",
              "      <td>20</td>\n",
              "      <td>1</td>\n",
              "      <td>20</td>\n",
              "      <td>Cash</td>\n",
              "      <td>Mr.</td>\n",
              "      <td>Afternoon</td>\n",
              "    </tr>\n",
              "    <tr>\n",
              "      <th>3</th>\n",
              "      <td>4</td>\n",
              "      <td>02-03-2023</td>\n",
              "      <td>Sugarcane juice</td>\n",
              "      <td>Beverages</td>\n",
              "      <td>25</td>\n",
              "      <td>6</td>\n",
              "      <td>150</td>\n",
              "      <td>Online</td>\n",
              "      <td>Mr.</td>\n",
              "      <td>Night</td>\n",
              "    </tr>\n",
              "    <tr>\n",
              "      <th>4</th>\n",
              "      <td>5</td>\n",
              "      <td>10-02-2022</td>\n",
              "      <td>Sugarcane juice</td>\n",
              "      <td>Beverages</td>\n",
              "      <td>25</td>\n",
              "      <td>8</td>\n",
              "      <td>200</td>\n",
              "      <td>Online</td>\n",
              "      <td>Mr.</td>\n",
              "      <td>Evening</td>\n",
              "    </tr>\n",
              "  </tbody>\n",
              "</table>\n",
              "</div>\n",
              "    <div class=\"colab-df-buttons\">\n",
              "\n",
              "  <div class=\"colab-df-container\">\n",
              "    <button class=\"colab-df-convert\" onclick=\"convertToInteractive('df-b271602d-e346-4186-a6dc-fbeaacae8ce1')\"\n",
              "            title=\"Convert this dataframe to an interactive table.\"\n",
              "            style=\"display:none;\">\n",
              "\n",
              "  <svg xmlns=\"http://www.w3.org/2000/svg\" height=\"24px\" viewBox=\"0 -960 960 960\">\n",
              "    <path d=\"M120-120v-720h720v720H120Zm60-500h600v-160H180v160Zm220 220h160v-160H400v160Zm0 220h160v-160H400v160ZM180-400h160v-160H180v160Zm440 0h160v-160H620v160ZM180-180h160v-160H180v160Zm440 0h160v-160H620v160Z\"/>\n",
              "  </svg>\n",
              "    </button>\n",
              "\n",
              "  <style>\n",
              "    .colab-df-container {\n",
              "      display:flex;\n",
              "      gap: 12px;\n",
              "    }\n",
              "\n",
              "    .colab-df-convert {\n",
              "      background-color: #E8F0FE;\n",
              "      border: none;\n",
              "      border-radius: 50%;\n",
              "      cursor: pointer;\n",
              "      display: none;\n",
              "      fill: #1967D2;\n",
              "      height: 32px;\n",
              "      padding: 0 0 0 0;\n",
              "      width: 32px;\n",
              "    }\n",
              "\n",
              "    .colab-df-convert:hover {\n",
              "      background-color: #E2EBFA;\n",
              "      box-shadow: 0px 1px 2px rgba(60, 64, 67, 0.3), 0px 1px 3px 1px rgba(60, 64, 67, 0.15);\n",
              "      fill: #174EA6;\n",
              "    }\n",
              "\n",
              "    .colab-df-buttons div {\n",
              "      margin-bottom: 4px;\n",
              "    }\n",
              "\n",
              "    [theme=dark] .colab-df-convert {\n",
              "      background-color: #3B4455;\n",
              "      fill: #D2E3FC;\n",
              "    }\n",
              "\n",
              "    [theme=dark] .colab-df-convert:hover {\n",
              "      background-color: #434B5C;\n",
              "      box-shadow: 0px 1px 3px 1px rgba(0, 0, 0, 0.15);\n",
              "      filter: drop-shadow(0px 1px 2px rgba(0, 0, 0, 0.3));\n",
              "      fill: #FFFFFF;\n",
              "    }\n",
              "  </style>\n",
              "\n",
              "    <script>\n",
              "      const buttonEl =\n",
              "        document.querySelector('#df-b271602d-e346-4186-a6dc-fbeaacae8ce1 button.colab-df-convert');\n",
              "      buttonEl.style.display =\n",
              "        google.colab.kernel.accessAllowed ? 'block' : 'none';\n",
              "\n",
              "      async function convertToInteractive(key) {\n",
              "        const element = document.querySelector('#df-b271602d-e346-4186-a6dc-fbeaacae8ce1');\n",
              "        const dataTable =\n",
              "          await google.colab.kernel.invokeFunction('convertToInteractive',\n",
              "                                                    [key], {});\n",
              "        if (!dataTable) return;\n",
              "\n",
              "        const docLinkHtml = 'Like what you see? Visit the ' +\n",
              "          '<a target=\"_blank\" href=https://colab.research.google.com/notebooks/data_table.ipynb>data table notebook</a>'\n",
              "          + ' to learn more about interactive tables.';\n",
              "        element.innerHTML = '';\n",
              "        dataTable['output_type'] = 'display_data';\n",
              "        await google.colab.output.renderOutput(dataTable, element);\n",
              "        const docLink = document.createElement('div');\n",
              "        docLink.innerHTML = docLinkHtml;\n",
              "        element.appendChild(docLink);\n",
              "      }\n",
              "    </script>\n",
              "  </div>\n",
              "\n",
              "\n",
              "<div id=\"df-6e032748-1a2f-44c3-9e6a-59f64187c60b\">\n",
              "  <button class=\"colab-df-quickchart\" onclick=\"quickchart('df-6e032748-1a2f-44c3-9e6a-59f64187c60b')\"\n",
              "            title=\"Suggest charts\"\n",
              "            style=\"display:none;\">\n",
              "\n",
              "<svg xmlns=\"http://www.w3.org/2000/svg\" height=\"24px\"viewBox=\"0 0 24 24\"\n",
              "     width=\"24px\">\n",
              "    <g>\n",
              "        <path d=\"M19 3H5c-1.1 0-2 .9-2 2v14c0 1.1.9 2 2 2h14c1.1 0 2-.9 2-2V5c0-1.1-.9-2-2-2zM9 17H7v-7h2v7zm4 0h-2V7h2v10zm4 0h-2v-4h2v4z\"/>\n",
              "    </g>\n",
              "</svg>\n",
              "  </button>\n",
              "\n",
              "<style>\n",
              "  .colab-df-quickchart {\n",
              "      --bg-color: #E8F0FE;\n",
              "      --fill-color: #1967D2;\n",
              "      --hover-bg-color: #E2EBFA;\n",
              "      --hover-fill-color: #174EA6;\n",
              "      --disabled-fill-color: #AAA;\n",
              "      --disabled-bg-color: #DDD;\n",
              "  }\n",
              "\n",
              "  [theme=dark] .colab-df-quickchart {\n",
              "      --bg-color: #3B4455;\n",
              "      --fill-color: #D2E3FC;\n",
              "      --hover-bg-color: #434B5C;\n",
              "      --hover-fill-color: #FFFFFF;\n",
              "      --disabled-bg-color: #3B4455;\n",
              "      --disabled-fill-color: #666;\n",
              "  }\n",
              "\n",
              "  .colab-df-quickchart {\n",
              "    background-color: var(--bg-color);\n",
              "    border: none;\n",
              "    border-radius: 50%;\n",
              "    cursor: pointer;\n",
              "    display: none;\n",
              "    fill: var(--fill-color);\n",
              "    height: 32px;\n",
              "    padding: 0;\n",
              "    width: 32px;\n",
              "  }\n",
              "\n",
              "  .colab-df-quickchart:hover {\n",
              "    background-color: var(--hover-bg-color);\n",
              "    box-shadow: 0 1px 2px rgba(60, 64, 67, 0.3), 0 1px 3px 1px rgba(60, 64, 67, 0.15);\n",
              "    fill: var(--button-hover-fill-color);\n",
              "  }\n",
              "\n",
              "  .colab-df-quickchart-complete:disabled,\n",
              "  .colab-df-quickchart-complete:disabled:hover {\n",
              "    background-color: var(--disabled-bg-color);\n",
              "    fill: var(--disabled-fill-color);\n",
              "    box-shadow: none;\n",
              "  }\n",
              "\n",
              "  .colab-df-spinner {\n",
              "    border: 2px solid var(--fill-color);\n",
              "    border-color: transparent;\n",
              "    border-bottom-color: var(--fill-color);\n",
              "    animation:\n",
              "      spin 1s steps(1) infinite;\n",
              "  }\n",
              "\n",
              "  @keyframes spin {\n",
              "    0% {\n",
              "      border-color: transparent;\n",
              "      border-bottom-color: var(--fill-color);\n",
              "      border-left-color: var(--fill-color);\n",
              "    }\n",
              "    20% {\n",
              "      border-color: transparent;\n",
              "      border-left-color: var(--fill-color);\n",
              "      border-top-color: var(--fill-color);\n",
              "    }\n",
              "    30% {\n",
              "      border-color: transparent;\n",
              "      border-left-color: var(--fill-color);\n",
              "      border-top-color: var(--fill-color);\n",
              "      border-right-color: var(--fill-color);\n",
              "    }\n",
              "    40% {\n",
              "      border-color: transparent;\n",
              "      border-right-color: var(--fill-color);\n",
              "      border-top-color: var(--fill-color);\n",
              "    }\n",
              "    60% {\n",
              "      border-color: transparent;\n",
              "      border-right-color: var(--fill-color);\n",
              "    }\n",
              "    80% {\n",
              "      border-color: transparent;\n",
              "      border-right-color: var(--fill-color);\n",
              "      border-bottom-color: var(--fill-color);\n",
              "    }\n",
              "    90% {\n",
              "      border-color: transparent;\n",
              "      border-bottom-color: var(--fill-color);\n",
              "    }\n",
              "  }\n",
              "</style>\n",
              "\n",
              "  <script>\n",
              "    async function quickchart(key) {\n",
              "      const quickchartButtonEl =\n",
              "        document.querySelector('#' + key + ' button');\n",
              "      quickchartButtonEl.disabled = true;  // To prevent multiple clicks.\n",
              "      quickchartButtonEl.classList.add('colab-df-spinner');\n",
              "      try {\n",
              "        const charts = await google.colab.kernel.invokeFunction(\n",
              "            'suggestCharts', [key], {});\n",
              "      } catch (error) {\n",
              "        console.error('Error during call to suggestCharts:', error);\n",
              "      }\n",
              "      quickchartButtonEl.classList.remove('colab-df-spinner');\n",
              "      quickchartButtonEl.classList.add('colab-df-quickchart-complete');\n",
              "    }\n",
              "    (() => {\n",
              "      let quickchartButtonEl =\n",
              "        document.querySelector('#df-6e032748-1a2f-44c3-9e6a-59f64187c60b button');\n",
              "      quickchartButtonEl.style.display =\n",
              "        google.colab.kernel.accessAllowed ? 'block' : 'none';\n",
              "    })();\n",
              "  </script>\n",
              "</div>\n",
              "    </div>\n",
              "  </div>\n"
            ]
          },
          "metadata": {},
          "execution_count": 7
        }
      ]
    },
    {
      "cell_type": "code",
      "source": [
        "df.shape"
      ],
      "metadata": {
        "colab": {
          "base_uri": "https://localhost:8080/"
        },
        "id": "3x7FKf5CJRi2",
        "outputId": "27e0c461-88b7-4fa8-9eb6-1a5feb8ced84"
      },
      "execution_count": 8,
      "outputs": [
        {
          "output_type": "execute_result",
          "data": {
            "text/plain": [
              "(1000, 10)"
            ]
          },
          "metadata": {},
          "execution_count": 8
        }
      ]
    },
    {
      "cell_type": "code",
      "source": [
        "df.info()"
      ],
      "metadata": {
        "colab": {
          "base_uri": "https://localhost:8080/"
        },
        "id": "2q2SCPV3Jh7Y",
        "outputId": "1bc7f8ca-d7b6-4c02-ee4e-be7a8aacff6c"
      },
      "execution_count": 9,
      "outputs": [
        {
          "output_type": "stream",
          "name": "stdout",
          "text": [
            "<class 'pandas.core.frame.DataFrame'>\n",
            "RangeIndex: 1000 entries, 0 to 999\n",
            "Data columns (total 10 columns):\n",
            " #   Column              Non-Null Count  Dtype \n",
            "---  ------              --------------  ----- \n",
            " 0   order_id            1000 non-null   int64 \n",
            " 1   date                1000 non-null   object\n",
            " 2   item_name           1000 non-null   object\n",
            " 3   item_type           1000 non-null   object\n",
            " 4   item_price          1000 non-null   int64 \n",
            " 5   quantity            1000 non-null   int64 \n",
            " 6   transaction_amount  1000 non-null   int64 \n",
            " 7   transaction_type    893 non-null    object\n",
            " 8   received_by         1000 non-null   object\n",
            " 9   time_of_sale        1000 non-null   object\n",
            "dtypes: int64(4), object(6)\n",
            "memory usage: 78.2+ KB\n"
          ]
        }
      ]
    },
    {
      "cell_type": "code",
      "source": [
        "# Dropping unnecessary (non feature) columns\n",
        "useless_col = ['order_id','date','received_by']\n",
        "df.drop(useless_col, axis = 1, inplace = True)"
      ],
      "metadata": {
        "id": "d2BPdKSWJj0u"
      },
      "execution_count": 10,
      "outputs": []
    },
    {
      "cell_type": "code",
      "source": [
        "df.describe()"
      ],
      "metadata": {
        "colab": {
          "base_uri": "https://localhost:8080/",
          "height": 300
        },
        "id": "MrFC-lqkKJ8d",
        "outputId": "59fae5e3-2263-4e0c-89f7-01e18bbb00dc"
      },
      "execution_count": 11,
      "outputs": [
        {
          "output_type": "execute_result",
          "data": {
            "text/plain": [
              "        item_price     quantity  transaction_amount\n",
              "count  1000.000000  1000.000000         1000.000000\n",
              "mean     33.315000     8.162000          275.230000\n",
              "std      14.921744     4.413075          204.402979\n",
              "min      20.000000     1.000000           20.000000\n",
              "25%      20.000000     4.000000          120.000000\n",
              "50%      25.000000     8.000000          240.000000\n",
              "75%      50.000000    12.000000          360.000000\n",
              "max      60.000000    15.000000          900.000000"
            ],
            "text/html": [
              "\n",
              "  <div id=\"df-962e923f-bd5e-4fa7-a421-aae4ecdf2dbf\" class=\"colab-df-container\">\n",
              "    <div>\n",
              "<style scoped>\n",
              "    .dataframe tbody tr th:only-of-type {\n",
              "        vertical-align: middle;\n",
              "    }\n",
              "\n",
              "    .dataframe tbody tr th {\n",
              "        vertical-align: top;\n",
              "    }\n",
              "\n",
              "    .dataframe thead th {\n",
              "        text-align: right;\n",
              "    }\n",
              "</style>\n",
              "<table border=\"1\" class=\"dataframe\">\n",
              "  <thead>\n",
              "    <tr style=\"text-align: right;\">\n",
              "      <th></th>\n",
              "      <th>item_price</th>\n",
              "      <th>quantity</th>\n",
              "      <th>transaction_amount</th>\n",
              "    </tr>\n",
              "  </thead>\n",
              "  <tbody>\n",
              "    <tr>\n",
              "      <th>count</th>\n",
              "      <td>1000.000000</td>\n",
              "      <td>1000.000000</td>\n",
              "      <td>1000.000000</td>\n",
              "    </tr>\n",
              "    <tr>\n",
              "      <th>mean</th>\n",
              "      <td>33.315000</td>\n",
              "      <td>8.162000</td>\n",
              "      <td>275.230000</td>\n",
              "    </tr>\n",
              "    <tr>\n",
              "      <th>std</th>\n",
              "      <td>14.921744</td>\n",
              "      <td>4.413075</td>\n",
              "      <td>204.402979</td>\n",
              "    </tr>\n",
              "    <tr>\n",
              "      <th>min</th>\n",
              "      <td>20.000000</td>\n",
              "      <td>1.000000</td>\n",
              "      <td>20.000000</td>\n",
              "    </tr>\n",
              "    <tr>\n",
              "      <th>25%</th>\n",
              "      <td>20.000000</td>\n",
              "      <td>4.000000</td>\n",
              "      <td>120.000000</td>\n",
              "    </tr>\n",
              "    <tr>\n",
              "      <th>50%</th>\n",
              "      <td>25.000000</td>\n",
              "      <td>8.000000</td>\n",
              "      <td>240.000000</td>\n",
              "    </tr>\n",
              "    <tr>\n",
              "      <th>75%</th>\n",
              "      <td>50.000000</td>\n",
              "      <td>12.000000</td>\n",
              "      <td>360.000000</td>\n",
              "    </tr>\n",
              "    <tr>\n",
              "      <th>max</th>\n",
              "      <td>60.000000</td>\n",
              "      <td>15.000000</td>\n",
              "      <td>900.000000</td>\n",
              "    </tr>\n",
              "  </tbody>\n",
              "</table>\n",
              "</div>\n",
              "    <div class=\"colab-df-buttons\">\n",
              "\n",
              "  <div class=\"colab-df-container\">\n",
              "    <button class=\"colab-df-convert\" onclick=\"convertToInteractive('df-962e923f-bd5e-4fa7-a421-aae4ecdf2dbf')\"\n",
              "            title=\"Convert this dataframe to an interactive table.\"\n",
              "            style=\"display:none;\">\n",
              "\n",
              "  <svg xmlns=\"http://www.w3.org/2000/svg\" height=\"24px\" viewBox=\"0 -960 960 960\">\n",
              "    <path d=\"M120-120v-720h720v720H120Zm60-500h600v-160H180v160Zm220 220h160v-160H400v160Zm0 220h160v-160H400v160ZM180-400h160v-160H180v160Zm440 0h160v-160H620v160ZM180-180h160v-160H180v160Zm440 0h160v-160H620v160Z\"/>\n",
              "  </svg>\n",
              "    </button>\n",
              "\n",
              "  <style>\n",
              "    .colab-df-container {\n",
              "      display:flex;\n",
              "      gap: 12px;\n",
              "    }\n",
              "\n",
              "    .colab-df-convert {\n",
              "      background-color: #E8F0FE;\n",
              "      border: none;\n",
              "      border-radius: 50%;\n",
              "      cursor: pointer;\n",
              "      display: none;\n",
              "      fill: #1967D2;\n",
              "      height: 32px;\n",
              "      padding: 0 0 0 0;\n",
              "      width: 32px;\n",
              "    }\n",
              "\n",
              "    .colab-df-convert:hover {\n",
              "      background-color: #E2EBFA;\n",
              "      box-shadow: 0px 1px 2px rgba(60, 64, 67, 0.3), 0px 1px 3px 1px rgba(60, 64, 67, 0.15);\n",
              "      fill: #174EA6;\n",
              "    }\n",
              "\n",
              "    .colab-df-buttons div {\n",
              "      margin-bottom: 4px;\n",
              "    }\n",
              "\n",
              "    [theme=dark] .colab-df-convert {\n",
              "      background-color: #3B4455;\n",
              "      fill: #D2E3FC;\n",
              "    }\n",
              "\n",
              "    [theme=dark] .colab-df-convert:hover {\n",
              "      background-color: #434B5C;\n",
              "      box-shadow: 0px 1px 3px 1px rgba(0, 0, 0, 0.15);\n",
              "      filter: drop-shadow(0px 1px 2px rgba(0, 0, 0, 0.3));\n",
              "      fill: #FFFFFF;\n",
              "    }\n",
              "  </style>\n",
              "\n",
              "    <script>\n",
              "      const buttonEl =\n",
              "        document.querySelector('#df-962e923f-bd5e-4fa7-a421-aae4ecdf2dbf button.colab-df-convert');\n",
              "      buttonEl.style.display =\n",
              "        google.colab.kernel.accessAllowed ? 'block' : 'none';\n",
              "\n",
              "      async function convertToInteractive(key) {\n",
              "        const element = document.querySelector('#df-962e923f-bd5e-4fa7-a421-aae4ecdf2dbf');\n",
              "        const dataTable =\n",
              "          await google.colab.kernel.invokeFunction('convertToInteractive',\n",
              "                                                    [key], {});\n",
              "        if (!dataTable) return;\n",
              "\n",
              "        const docLinkHtml = 'Like what you see? Visit the ' +\n",
              "          '<a target=\"_blank\" href=https://colab.research.google.com/notebooks/data_table.ipynb>data table notebook</a>'\n",
              "          + ' to learn more about interactive tables.';\n",
              "        element.innerHTML = '';\n",
              "        dataTable['output_type'] = 'display_data';\n",
              "        await google.colab.output.renderOutput(dataTable, element);\n",
              "        const docLink = document.createElement('div');\n",
              "        docLink.innerHTML = docLinkHtml;\n",
              "        element.appendChild(docLink);\n",
              "      }\n",
              "    </script>\n",
              "  </div>\n",
              "\n",
              "\n",
              "<div id=\"df-a1022986-4820-4d46-b77a-a060dbb4246e\">\n",
              "  <button class=\"colab-df-quickchart\" onclick=\"quickchart('df-a1022986-4820-4d46-b77a-a060dbb4246e')\"\n",
              "            title=\"Suggest charts\"\n",
              "            style=\"display:none;\">\n",
              "\n",
              "<svg xmlns=\"http://www.w3.org/2000/svg\" height=\"24px\"viewBox=\"0 0 24 24\"\n",
              "     width=\"24px\">\n",
              "    <g>\n",
              "        <path d=\"M19 3H5c-1.1 0-2 .9-2 2v14c0 1.1.9 2 2 2h14c1.1 0 2-.9 2-2V5c0-1.1-.9-2-2-2zM9 17H7v-7h2v7zm4 0h-2V7h2v10zm4 0h-2v-4h2v4z\"/>\n",
              "    </g>\n",
              "</svg>\n",
              "  </button>\n",
              "\n",
              "<style>\n",
              "  .colab-df-quickchart {\n",
              "      --bg-color: #E8F0FE;\n",
              "      --fill-color: #1967D2;\n",
              "      --hover-bg-color: #E2EBFA;\n",
              "      --hover-fill-color: #174EA6;\n",
              "      --disabled-fill-color: #AAA;\n",
              "      --disabled-bg-color: #DDD;\n",
              "  }\n",
              "\n",
              "  [theme=dark] .colab-df-quickchart {\n",
              "      --bg-color: #3B4455;\n",
              "      --fill-color: #D2E3FC;\n",
              "      --hover-bg-color: #434B5C;\n",
              "      --hover-fill-color: #FFFFFF;\n",
              "      --disabled-bg-color: #3B4455;\n",
              "      --disabled-fill-color: #666;\n",
              "  }\n",
              "\n",
              "  .colab-df-quickchart {\n",
              "    background-color: var(--bg-color);\n",
              "    border: none;\n",
              "    border-radius: 50%;\n",
              "    cursor: pointer;\n",
              "    display: none;\n",
              "    fill: var(--fill-color);\n",
              "    height: 32px;\n",
              "    padding: 0;\n",
              "    width: 32px;\n",
              "  }\n",
              "\n",
              "  .colab-df-quickchart:hover {\n",
              "    background-color: var(--hover-bg-color);\n",
              "    box-shadow: 0 1px 2px rgba(60, 64, 67, 0.3), 0 1px 3px 1px rgba(60, 64, 67, 0.15);\n",
              "    fill: var(--button-hover-fill-color);\n",
              "  }\n",
              "\n",
              "  .colab-df-quickchart-complete:disabled,\n",
              "  .colab-df-quickchart-complete:disabled:hover {\n",
              "    background-color: var(--disabled-bg-color);\n",
              "    fill: var(--disabled-fill-color);\n",
              "    box-shadow: none;\n",
              "  }\n",
              "\n",
              "  .colab-df-spinner {\n",
              "    border: 2px solid var(--fill-color);\n",
              "    border-color: transparent;\n",
              "    border-bottom-color: var(--fill-color);\n",
              "    animation:\n",
              "      spin 1s steps(1) infinite;\n",
              "  }\n",
              "\n",
              "  @keyframes spin {\n",
              "    0% {\n",
              "      border-color: transparent;\n",
              "      border-bottom-color: var(--fill-color);\n",
              "      border-left-color: var(--fill-color);\n",
              "    }\n",
              "    20% {\n",
              "      border-color: transparent;\n",
              "      border-left-color: var(--fill-color);\n",
              "      border-top-color: var(--fill-color);\n",
              "    }\n",
              "    30% {\n",
              "      border-color: transparent;\n",
              "      border-left-color: var(--fill-color);\n",
              "      border-top-color: var(--fill-color);\n",
              "      border-right-color: var(--fill-color);\n",
              "    }\n",
              "    40% {\n",
              "      border-color: transparent;\n",
              "      border-right-color: var(--fill-color);\n",
              "      border-top-color: var(--fill-color);\n",
              "    }\n",
              "    60% {\n",
              "      border-color: transparent;\n",
              "      border-right-color: var(--fill-color);\n",
              "    }\n",
              "    80% {\n",
              "      border-color: transparent;\n",
              "      border-right-color: var(--fill-color);\n",
              "      border-bottom-color: var(--fill-color);\n",
              "    }\n",
              "    90% {\n",
              "      border-color: transparent;\n",
              "      border-bottom-color: var(--fill-color);\n",
              "    }\n",
              "  }\n",
              "</style>\n",
              "\n",
              "  <script>\n",
              "    async function quickchart(key) {\n",
              "      const quickchartButtonEl =\n",
              "        document.querySelector('#' + key + ' button');\n",
              "      quickchartButtonEl.disabled = true;  // To prevent multiple clicks.\n",
              "      quickchartButtonEl.classList.add('colab-df-spinner');\n",
              "      try {\n",
              "        const charts = await google.colab.kernel.invokeFunction(\n",
              "            'suggestCharts', [key], {});\n",
              "      } catch (error) {\n",
              "        console.error('Error during call to suggestCharts:', error);\n",
              "      }\n",
              "      quickchartButtonEl.classList.remove('colab-df-spinner');\n",
              "      quickchartButtonEl.classList.add('colab-df-quickchart-complete');\n",
              "    }\n",
              "    (() => {\n",
              "      let quickchartButtonEl =\n",
              "        document.querySelector('#df-a1022986-4820-4d46-b77a-a060dbb4246e button');\n",
              "      quickchartButtonEl.style.display =\n",
              "        google.colab.kernel.accessAllowed ? 'block' : 'none';\n",
              "    })();\n",
              "  </script>\n",
              "</div>\n",
              "    </div>\n",
              "  </div>\n"
            ]
          },
          "metadata": {},
          "execution_count": 11
        }
      ]
    },
    {
      "cell_type": "code",
      "source": [
        "df.isnull().sum()"
      ],
      "metadata": {
        "colab": {
          "base_uri": "https://localhost:8080/"
        },
        "id": "pixxaD_rKOVn",
        "outputId": "ceea3747-712b-44cf-e92b-a4895e0115ac"
      },
      "execution_count": 12,
      "outputs": [
        {
          "output_type": "execute_result",
          "data": {
            "text/plain": [
              "item_name               0\n",
              "item_type               0\n",
              "item_price              0\n",
              "quantity                0\n",
              "transaction_amount      0\n",
              "transaction_type      107\n",
              "time_of_sale            0\n",
              "dtype: int64"
            ]
          },
          "metadata": {},
          "execution_count": 12
        }
      ]
    },
    {
      "cell_type": "code",
      "source": [
        "df['transaction_type'].value_counts()"
      ],
      "metadata": {
        "colab": {
          "base_uri": "https://localhost:8080/"
        },
        "id": "QtYnp1gHKrsv",
        "outputId": "26f358af-6df2-465d-f2e2-e8b07c7615ca"
      },
      "execution_count": 13,
      "outputs": [
        {
          "output_type": "execute_result",
          "data": {
            "text/plain": [
              "Cash      476\n",
              "Online    417\n",
              "Name: transaction_type, dtype: int64"
            ]
          },
          "metadata": {},
          "execution_count": 13
        }
      ]
    },
    {
      "cell_type": "code",
      "source": [
        "df['transaction_type'].fillna('Cash', inplace = True)"
      ],
      "metadata": {
        "id": "VLprQuOIKT-V"
      },
      "execution_count": 14,
      "outputs": []
    },
    {
      "cell_type": "code",
      "source": [
        "df.isnull().sum()"
      ],
      "metadata": {
        "colab": {
          "base_uri": "https://localhost:8080/"
        },
        "id": "JLCtdWC7KhSt",
        "outputId": "fc51c11e-9e18-4e4c-c82e-76d4bcc8e877"
      },
      "execution_count": 15,
      "outputs": [
        {
          "output_type": "execute_result",
          "data": {
            "text/plain": [
              "item_name             0\n",
              "item_type             0\n",
              "item_price            0\n",
              "quantity              0\n",
              "transaction_amount    0\n",
              "transaction_type      0\n",
              "time_of_sale          0\n",
              "dtype: int64"
            ]
          },
          "metadata": {},
          "execution_count": 15
        }
      ]
    },
    {
      "cell_type": "markdown",
      "source": [
        "# Exploratory data analysis (EDA) & Visualisations"
      ],
      "metadata": {
        "id": "rzEYJJJgLEBg"
      }
    },
    {
      "cell_type": "code",
      "source": [
        "# Group the data by 'item_name' and 'item_type' and calculate the sum of 'transaction_amount'\n",
        "grouped_data_1 = df.groupby(['item_name', 'item_type'])['transaction_amount'].sum().unstack(fill_value=0)\n",
        "# Create a stacked bar chart\n",
        "ax1 = grouped_data_1.plot(kind='bar', stacked=True, figsize=(10, 6))\n",
        "\n",
        "# Set the axis labels and title\n",
        "plt.xlabel('Item Name')\n",
        "plt.ylabel('Total transaction amount')\n",
        "plt.title('Total transaction amount (item-wise)')\n",
        "plt.legend(title='Item Type')\n",
        "plt.show()"
      ],
      "metadata": {
        "colab": {
          "base_uri": "https://localhost:8080/",
          "height": 661
        },
        "id": "xk8Jx4pCKjOt",
        "outputId": "1334cfac-cae4-49c1-8eee-58e5adc0c7f3"
      },
      "execution_count": 16,
      "outputs": [
        {
          "output_type": "display_data",
          "data": {
            "text/plain": [
              "<Figure size 1000x600 with 1 Axes>"
            ],
            "image/png": "[encoded data removed]"
          },
          "metadata": {}
        }
      ]
    },
    {
      "cell_type": "code",
      "source": [
        "# Group the data by 'item_name' and 'item_type' and calculate the sum of 'transaction_amount'\n",
        "grouped_data_2 = df.groupby(['item_name', 'item_type'])['quantity'].sum().unstack(fill_value=0)\n",
        "\n",
        "# Create a stacked bar chart\n",
        "grouped_data_2.plot(kind='bar', figsize=(10,6), stacked = True)\n",
        "\n",
        "# Set the axis labels and title\n",
        "plt.title(\"Avg daily Sales (item-wise)\")\n",
        "plt.xlabel('Item Name')\n",
        "plt.ylabel('No of items sold')\n",
        "plt.show()"
      ],
      "metadata": {
        "colab": {
          "base_uri": "https://localhost:8080/",
          "height": 661
        },
        "id": "b7QQlkBmOCXt",
        "outputId": "c20a89d0-f4c3-458a-a592-60afffdbb417"
      },
      "execution_count": 17,
      "outputs": [
        {
          "output_type": "display_data",
          "data": {
            "text/plain": [
              "<Figure size 1000x600 with 1 Axes>"
            ],
            "image/png": "[encoded data removed]"
          },
          "metadata": {}
        }
      ]
    },
    {
      "cell_type": "code",
      "source": [
        "# Group the data by 'transaction_type' and calculate the sum of 'transaction_amount'\n",
        "grouped_data_3 = df.groupby('transaction_type')['transaction_amount'].sum()\n",
        "\n",
        "# Create a bar chart\n",
        "grouped_data_3.plot(kind='bar', title='Transaction Amount by Transaction Type')\n",
        "\n",
        "# Set the axis labels\n",
        "plt.xlabel('Transaction Type')\n",
        "plt.ylabel('Total Amount')"
      ],
      "metadata": {
        "colab": {
          "base_uri": "https://localhost:8080/",
          "height": 519
        },
        "id": "oU0ukmw6OmgM",
        "outputId": "ee325d2b-5f99-4343-8545-6497fe4d4fff"
      },
      "execution_count": 18,
      "outputs": [
        {
          "output_type": "execute_result",
          "data": {
            "text/plain": [
              "Text(0, 0.5, 'Total Amount')"
            ]
          },
          "metadata": {},
          "execution_count": 18
        },
        {
          "output_type": "display_data",
          "data": {
            "text/plain": [
              "<Figure size 640x480 with 1 Axes>"
            ],
            "image/png": "[encoded data removed]"
          },
          "metadata": {}
        }
      ]
    },
    {
      "cell_type": "code",
      "source": [
        "# Transaction Time Distribution\n",
        "sns.countplot(x='time_of_sale', data=df, order=df['time_of_sale'].value_counts().index)\n",
        "plt.title('Transaction Time Distribution')"
      ],
      "metadata": {
        "colab": {
          "base_uri": "https://localhost:8080/",
          "height": 489
        },
        "id": "MxK818qDQb_-",
        "outputId": "f6580aca-0441-47ad-e5d3-501d06733b08"
      },
      "execution_count": 19,
      "outputs": [
        {
          "output_type": "execute_result",
          "data": {
            "text/plain": [
              "Text(0.5, 1.0, 'Transaction Time Distribution')"
            ]
          },
          "metadata": {},
          "execution_count": 19
        },
        {
          "output_type": "display_data",
          "data": {
            "text/plain": [
              "<Figure size 640x480 with 1 Axes>"
            ],
            "image/png": "[encoded data removed]"
          },
          "metadata": {}
        }
      ]
    },
    {
      "cell_type": "code",
      "source": [
        "#Item Price Distribution\n",
        "sns.histplot(df['transaction_amount'], kde=True)\n",
        "plt.title('Transaction Amount Distribution')\n",
        "plt.xlabel('Amount')"
      ],
      "metadata": {
        "colab": {
          "base_uri": "https://localhost:8080/",
          "height": 489
        },
        "id": "zMYfcGciRD14",
        "outputId": "7dcd629f-b996-4231-8e4d-e06167a532c0"
      },
      "execution_count": 20,
      "outputs": [
        {
          "output_type": "execute_result",
          "data": {
            "text/plain": [
              "Text(0.5, 0, 'Amount')"
            ]
          },
          "metadata": {},
          "execution_count": 20
        },
        {
          "output_type": "display_data",
          "data": {
            "text/plain": [
              "<Figure size 640x480 with 1 Axes>"
            ],
            "image/png": "[encoded data removed]"
          },
          "metadata": {}
        }
      ]
    },
    {
      "cell_type": "code",
      "source": [
        "# Item Type Distribution\n",
        "fig = px.pie(df, names='item_type', title='Item Type Distribution')\n",
        "fig.update_traces(textposition='inside', textinfo='percent+label')"
      ],
      "metadata": {
        "colab": {
          "base_uri": "https://localhost:8080/",
          "height": 542
        },
        "id": "OZ0E-h5pRU3d",
        "outputId": "1b8de90f-1522-4dd8-d9e1-65fe410e21db"
      },
      "execution_count": 21,
      "outputs": [
        {
          "output_type": "display_data",
          "data": {
            "text/html": [
              "<html>\n",
              "<head><meta charset=\"utf-8\" /></head>\n",
              "<body>\n",
              "    <div>            <script src=\"https://cdnjs.cloudflare.com/ajax/libs/mathjax/2.7.5/MathJax.js?config=TeX-AMS-MML_SVG\"></script><script type=\"text/javascript\">if (window.MathJax && window.MathJax.Hub && window.MathJax.Hub.Config) {window.MathJax.Hub.Config({SVG: {font: \"STIX-Web\"}});}</script>                <script type=\"text/javascript\">window.PlotlyConfig = {MathJaxConfig: 'local'};</script>\n",
              "        <script charset=\"utf-8\" src=\"https://cdn.plot.ly/plotly-2.24.1.min.js\"></script>                <div id=\"e46cc283-4479-4b96-a070-1bc52a4f2610\" class=\"plotly-graph-div\" style=\"height:525px; width:100%;\"></div>            <script type=\"text/javascript\">                                    window.PLOTLYENV=window.PLOTLYENV || {};                                    if (document.getElementById(\"e46cc283-4479-4b96-a070-1bc52a4f2610\")) {                    Plotly.newPlot(                        \"e46cc283-4479-4b96-a070-1bc52a4f2610\",                        [{\"domain\":{\"x\":[0.0,1.0],\"y\":[0.0,1.0]},\"hovertemplate\":\"item_type=%{label}\\u003cextra\\u003e\\u003c\\u002fextra\\u003e\",\"labels\":[\"Fastfood\",\"Fastfood\",\"Fastfood\",\"Beverages\",\"Beverages\",\"Fastfood\",\"Beverages\",\"Fastfood\",\"Fastfood\",\"Fastfood\",\"Fastfood\",\"Fastfood\",\"Fastfood\",\"Fastfood\",\"Fastfood\",\"Fastfood\",\"Fastfood\",\"Fastfood\",\"Fastfood\",\"Beverages\",\"Beverages\",\"Beverages\",\"Fastfood\",\"Beverages\",\"Fastfood\",\"Beverages\",\"Beverages\",\"Beverages\",\"Beverages\",\"Fastfood\",\"Beverages\",\"Fastfood\",\"Fastfood\",\"Fastfood\",\"Fastfood\",\"Beverages\",\"Fastfood\",\"Fastfood\",\"Fastfood\",\"Fastfood\",\"Beverages\",\"Fastfood\",\"Fastfood\",\"Beverages\",\"Beverages\",\"Fastfood\",\"Fastfood\",\"Fastfood\",\"Fastfood\",\"Fastfood\",\"Fastfood\",\"Beverages\",\"Fastfood\",\"Fastfood\",\"Fastfood\",\"Fastfood\",\"Fastfood\",\"Fastfood\",\"Fastfood\",\"Beverages\",\"Fastfood\",\"Beverages\",\"Fastfood\",\"Beverages\",\"Fastfood\",\"Fastfood\",\"Fastfood\",\"Beverages\",\"Fastfood\",\"Beverages\",\"Beverages\",\"Fastfood\",\"Fastfood\",\"Beverages\",\"Beverages\",\"Fastfood\",\"Beverages\",\"Fastfood\",\"Fastfood\",\"Fastfood\",\"Fastfood\",\"Fastfood\",\"Fastfood\",\"Fastfood\",\"Fastfood\",\"Fastfood\",\"Fastfood\",\"Beverages\",\"Fastfood\",\"Fastfood\",\"Beverages\",\"Fastfood\",\"Beverages\",\"Fastfood\",\"Beverages\",\"Fastfood\",\"Beverages\",\"Fastfood\",\"Beverages\",\"Fastfood\",\"Fastfood\",\"Beverages\",\"Beverages\",\"Beverages\",\"Fastfood\",\"Fastfood\",\"Fastfood\",\"Fastfood\",\"Beverages\",\"Fastfood\",\"Fastfood\",\"Fastfood\",\"Fastfood\",\"Fastfood\",\"Fastfood\",\"Beverages\",\"Fastfood\",\"Fastfood\",\"Fastfood\",\"Fastfood\",\"Beverages\",\"Fastfood\",\"Beverages\",\"Beverages\",\"Fastfood\",\"Fastfood\",\"Fastfood\",\"Fastfood\",\"Fastfood\",\"Beverages\",\"Fastfood\",\"Fastfood\",\"Fastfood\",\"Fastfood\",\"Fastfood\",\"Fastfood\",\"Beverages\",\"Fastfood\",\"Fastfood\",\"Fastfood\",\"Fastfood\",\"Beverages\",\"Fastfood\",\"Fastfood\",\"Fastfood\",\"Fastfood\",\"Fastfood\",\"Fastfood\",\"Fastfood\",\"Beverages\",\"Fastfood\",\"Beverages\",\"Fastfood\",\"Fastfood\",\"Beverages\",\"Fastfood\",\"Fastfood\",\"Fastfood\",\"Beverages\",\"Fastfood\",\"Beverages\",\"Fastfood\",\"Fastfood\",\"Beverages\",\"Fastfood\",\"Fastfood\",\"Beverages\",\"Fastfood\",\"Fastfood\",\"Fastfood\",\"Fastfood\",\"Beverages\",\"Beverages\",\"Fastfood\",\"Fastfood\",\"Fastfood\",\"Fastfood\",\"Fastfood\",\"Beverages\",\"Fastfood\",\"Beverages\",\"Beverages\",\"Beverages\",\"Beverages\",\"Beverages\",\"Fastfood\",\"Fastfood\",\"Fastfood\",\"Fastfood\",\"Beverages\",\"Beverages\",\"Fastfood\",\"Beverages\",\"Fastfood\",\"Fastfood\",\"Fastfood\",\"Fastfood\",\"Fastfood\",\"Fastfood\",\"Beverages\",\"Fastfood\",\"Fastfood\",\"Fastfood\",\"Beverages\",\"Fastfood\",\"Fastfood\",\"Beverages\",\"Beverages\",\"Fastfood\",\"Beverages\",\"Fastfood\",\"Beverages\",\"Fastfood\",\"Beverages\",\"Beverages\",\"Fastfood\",\"Beverages\",\"Beverages\",\"Fastfood\",\"Beverages\",\"Fastfood\",\"Fastfood\",\"Fastfood\",\"Beverages\",\"Fastfood\",\"Fastfood\",\"Beverages\",\"Fastfood\",\"Fastfood\",\"Fastfood\",\"Beverages\",\"Fastfood\",\"Fastfood\",\"Fastfood\",\"Fastfood\",\"Fastfood\",\"Fastfood\",\"Fastfood\",\"Fastfood\",\"Fastfood\",\"Beverages\",\"Beverages\",\"Fastfood\",\"Fastfood\",\"Fastfood\",\"Fastfood\",\"Beverages\",\"Fastfood\",\"Beverages\",\"Beverages\",\"Beverages\",\"Fastfood\",\"Beverages\",\"Beverages\",\"Fastfood\",\"Fastfood\",\"Fastfood\",\"Fastfood\",\"Fastfood\",\"Beverages\",\"Fastfood\",\"Fastfood\",\"Fastfood\",\"Beverages\",\"Fastfood\",\"Fastfood\",\"Fastfood\",\"Beverages\",\"Fastfood\",\"Fastfood\",\"Fastfood\",\"Fastfood\",\"Fastfood\",\"Beverages\",\"Fastfood\",\"Beverages\",\"Beverages\",\"Fastfood\",\"Fastfood\",\"Fastfood\",\"Fastfood\",\"Fastfood\",\"Fastfood\",\"Fastfood\",\"Fastfood\",\"Fastfood\",\"Fastfood\",\"Fastfood\",\"Fastfood\",\"Fastfood\",\"Fastfood\",\"Fastfood\",\"Fastfood\",\"Fastfood\",\"Fastfood\",\"Fastfood\",\"Fastfood\",\"Beverages\",\"Fastfood\",\"Fastfood\",\"Fastfood\",\"Fastfood\",\"Beverages\",\"Fastfood\",\"Fastfood\",\"Beverages\",\"Fastfood\",\"Fastfood\",\"Fastfood\",\"Fastfood\",\"Fastfood\",\"Beverages\",\"Beverages\",\"Fastfood\",\"Beverages\",\"Fastfood\",\"Fastfood\",\"Fastfood\",\"Fastfood\",\"Beverages\",\"Fastfood\",\"Beverages\",\"Fastfood\",\"Beverages\",\"Fastfood\",\"Fastfood\",\"Fastfood\",\"Fastfood\",\"Fastfood\",\"Fastfood\",\"Fastfood\",\"Fastfood\",\"Beverages\",\"Beverages\",\"Beverages\",\"Beverages\",\"Fastfood\",\"Beverages\",\"Beverages\",\"Beverages\",\"Fastfood\",\"Fastfood\",\"Beverages\",\"Beverages\",\"Fastfood\",\"Beverages\",\"Fastfood\",\"Fastfood\",\"Fastfood\",\"Beverages\",\"Fastfood\",\"Fastfood\",\"Fastfood\",\"Fastfood\",\"Beverages\",\"Beverages\",\"Fastfood\",\"Fastfood\",\"Fastfood\",\"Beverages\",\"Fastfood\",\"Beverages\",\"Fastfood\",\"Beverages\",\"Fastfood\",\"Beverages\",\"Fastfood\",\"Beverages\",\"Fastfood\",\"Fastfood\",\"Fastfood\",\"Fastfood\",\"Beverages\",\"Fastfood\",\"Fastfood\",\"Fastfood\",\"Beverages\",\"Fastfood\",\"Beverages\",\"Fastfood\",\"Fastfood\",\"Beverages\",\"Fastfood\",\"Beverages\",\"Fastfood\",\"Fastfood\",\"Beverages\",\"Fastfood\",\"Fastfood\",\"Beverages\",\"Fastfood\",\"Fastfood\",\"Beverages\",\"Fastfood\",\"Fastfood\",\"Fastfood\",\"Fastfood\",\"Fastfood\",\"Fastfood\",\"Beverages\",\"Beverages\",\"Fastfood\",\"Beverages\",\"Fastfood\",\"Beverages\",\"Beverages\",\"Beverages\",\"Fastfood\",\"Fastfood\",\"Fastfood\",\"Fastfood\",\"Beverages\",\"Fastfood\",\"Beverages\",\"Fastfood\",\"Fastfood\",\"Fastfood\",\"Beverages\",\"Beverages\",\"Fastfood\",\"Beverages\",\"Beverages\",\"Fastfood\",\"Beverages\",\"Fastfood\",\"Fastfood\",\"Fastfood\",\"Beverages\",\"Beverages\",\"Fastfood\",\"Fastfood\",\"Fastfood\",\"Fastfood\",\"Fastfood\",\"Fastfood\",\"Fastfood\",\"Beverages\",\"Beverages\",\"Fastfood\",\"Fastfood\",\"Fastfood\",\"Beverages\",\"Beverages\",\"Fastfood\",\"Fastfood\",\"Beverages\",\"Fastfood\",\"Fastfood\",\"Fastfood\",\"Beverages\",\"Beverages\",\"Fastfood\",\"Fastfood\",\"Fastfood\",\"Beverages\",\"Beverages\",\"Beverages\",\"Beverages\",\"Fastfood\",\"Fastfood\",\"Beverages\",\"Fastfood\",\"Fastfood\",\"Beverages\",\"Beverages\",\"Fastfood\",\"Fastfood\",\"Fastfood\",\"Fastfood\",\"Fastfood\",\"Fastfood\",\"Fastfood\",\"Fastfood\",\"Beverages\",\"Beverages\",\"Fastfood\",\"Fastfood\",\"Beverages\",\"Fastfood\",\"Fastfood\",\"Beverages\",\"Fastfood\",\"Fastfood\",\"Beverages\",\"Fastfood\",\"Fastfood\",\"Fastfood\",\"Beverages\",\"Fastfood\",\"Beverages\",\"Fastfood\",\"Fastfood\",\"Beverages\",\"Beverages\",\"Fastfood\",\"Beverages\",\"Fastfood\",\"Fastfood\",\"Fastfood\",\"Fastfood\",\"Beverages\",\"Fastfood\",\"Fastfood\",\"Beverages\",\"Fastfood\",\"Beverages\",\"Fastfood\",\"Fastfood\",\"Fastfood\",\"Fastfood\",\"Fastfood\",\"Fastfood\",\"Beverages\",\"Beverages\",\"Fastfood\",\"Beverages\",\"Fastfood\",\"Fastfood\",\"Beverages\",\"Fastfood\",\"Fastfood\",\"Fastfood\",\"Fastfood\",\"Fastfood\",\"Fastfood\",\"Fastfood\",\"Beverages\",\"Beverages\",\"Fastfood\",\"Fastfood\",\"Beverages\",\"Fastfood\",\"Fastfood\",\"Fastfood\",\"Fastfood\",\"Beverages\",\"Fastfood\",\"Fastfood\",\"Fastfood\",\"Fastfood\",\"Fastfood\",\"Beverages\",\"Fastfood\",\"Fastfood\",\"Fastfood\",\"Fastfood\",\"Beverages\",\"Beverages\",\"Beverages\",\"Beverages\",\"Beverages\",\"Beverages\",\"Fastfood\",\"Fastfood\",\"Fastfood\",\"Fastfood\",\"Fastfood\",\"Fastfood\",\"Beverages\",\"Beverages\",\"Fastfood\",\"Fastfood\",\"Fastfood\",\"Beverages\",\"Fastfood\",\"Fastfood\",\"Beverages\",\"Fastfood\",\"Beverages\",\"Beverages\",\"Beverages\",\"Fastfood\",\"Fastfood\",\"Fastfood\",\"Fastfood\",\"Fastfood\",\"Beverages\",\"Fastfood\",\"Fastfood\",\"Fastfood\",\"Beverages\",\"Fastfood\",\"Fastfood\",\"Beverages\",\"Fastfood\",\"Fastfood\",\"Fastfood\",\"Fastfood\",\"Beverages\",\"Fastfood\",\"Fastfood\",\"Beverages\",\"Beverages\",\"Fastfood\",\"Fastfood\",\"Beverages\",\"Fastfood\",\"Beverages\",\"Fastfood\",\"Fastfood\",\"Fastfood\",\"Fastfood\",\"Fastfood\",\"Fastfood\",\"Beverages\",\"Beverages\",\"Fastfood\",\"Fastfood\",\"Fastfood\",\"Fastfood\",\"Fastfood\",\"Fastfood\",\"Fastfood\",\"Fastfood\",\"Fastfood\",\"Fastfood\",\"Beverages\",\"Fastfood\",\"Beverages\",\"Fastfood\",\"Fastfood\",\"Fastfood\",\"Beverages\",\"Fastfood\",\"Fastfood\",\"Beverages\",\"Beverages\",\"Beverages\",\"Beverages\",\"Fastfood\",\"Beverages\",\"Fastfood\",\"Beverages\",\"Fastfood\",\"Fastfood\",\"Beverages\",\"Fastfood\",\"Beverages\",\"Fastfood\",\"Fastfood\",\"Fastfood\",\"Beverages\",\"Beverages\",\"Fastfood\",\"Fastfood\",\"Fastfood\",\"Fastfood\",\"Fastfood\",\"Fastfood\",\"Fastfood\",\"Fastfood\",\"Beverages\",\"Fastfood\",\"Fastfood\",\"Beverages\",\"Fastfood\",\"Beverages\",\"Fastfood\",\"Fastfood\",\"Fastfood\",\"Fastfood\",\"Fastfood\",\"Beverages\",\"Fastfood\",\"Fastfood\",\"Fastfood\",\"Fastfood\",\"Fastfood\",\"Fastfood\",\"Fastfood\",\"Fastfood\",\"Beverages\",\"Fastfood\",\"Beverages\",\"Fastfood\",\"Fastfood\",\"Beverages\",\"Fastfood\",\"Fastfood\",\"Beverages\",\"Fastfood\",\"Fastfood\",\"Fastfood\",\"Fastfood\",\"Fastfood\",\"Beverages\",\"Fastfood\",\"Fastfood\",\"Fastfood\",\"Fastfood\",\"Fastfood\",\"Fastfood\",\"Beverages\",\"Fastfood\",\"Fastfood\",\"Beverages\",\"Beverages\",\"Fastfood\",\"Beverages\",\"Fastfood\",\"Beverages\",\"Beverages\",\"Fastfood\",\"Fastfood\",\"Fastfood\",\"Fastfood\",\"Fastfood\",\"Fastfood\",\"Beverages\",\"Fastfood\",\"Fastfood\",\"Fastfood\",\"Beverages\",\"Beverages\",\"Fastfood\",\"Fastfood\",\"Beverages\",\"Fastfood\",\"Fastfood\",\"Fastfood\",\"Fastfood\",\"Fastfood\",\"Beverages\",\"Fastfood\",\"Fastfood\",\"Fastfood\",\"Fastfood\",\"Fastfood\",\"Fastfood\",\"Fastfood\",\"Fastfood\",\"Fastfood\",\"Fastfood\",\"Fastfood\",\"Fastfood\",\"Fastfood\",\"Fastfood\",\"Fastfood\",\"Fastfood\",\"Fastfood\",\"Fastfood\",\"Fastfood\",\"Fastfood\",\"Fastfood\",\"Fastfood\",\"Beverages\",\"Beverages\",\"Fastfood\",\"Fastfood\",\"Fastfood\",\"Fastfood\",\"Fastfood\",\"Beverages\",\"Beverages\",\"Fastfood\",\"Beverages\",\"Beverages\",\"Fastfood\",\"Beverages\",\"Beverages\",\"Fastfood\",\"Fastfood\",\"Fastfood\",\"Fastfood\",\"Fastfood\",\"Fastfood\",\"Fastfood\",\"Fastfood\",\"Fastfood\",\"Fastfood\",\"Fastfood\",\"Beverages\",\"Beverages\",\"Fastfood\",\"Fastfood\",\"Fastfood\",\"Fastfood\",\"Fastfood\",\"Fastfood\",\"Beverages\",\"Fastfood\",\"Fastfood\",\"Fastfood\",\"Fastfood\",\"Fastfood\",\"Fastfood\",\"Fastfood\",\"Beverages\",\"Beverages\",\"Fastfood\",\"Fastfood\",\"Fastfood\",\"Fastfood\",\"Beverages\",\"Fastfood\",\"Beverages\",\"Beverages\",\"Fastfood\",\"Fastfood\",\"Beverages\",\"Fastfood\",\"Fastfood\",\"Fastfood\",\"Beverages\",\"Beverages\",\"Fastfood\",\"Fastfood\",\"Fastfood\",\"Fastfood\",\"Fastfood\",\"Fastfood\",\"Fastfood\",\"Fastfood\",\"Fastfood\",\"Beverages\",\"Beverages\",\"Fastfood\",\"Fastfood\",\"Fastfood\",\"Fastfood\",\"Fastfood\",\"Fastfood\",\"Fastfood\",\"Fastfood\",\"Fastfood\",\"Fastfood\",\"Fastfood\",\"Fastfood\",\"Beverages\",\"Beverages\",\"Fastfood\",\"Beverages\",\"Fastfood\",\"Beverages\",\"Beverages\",\"Fastfood\",\"Fastfood\",\"Beverages\",\"Beverages\",\"Beverages\",\"Fastfood\",\"Fastfood\",\"Beverages\",\"Beverages\",\"Beverages\",\"Fastfood\",\"Fastfood\",\"Fastfood\",\"Beverages\",\"Fastfood\",\"Fastfood\",\"Beverages\",\"Beverages\",\"Beverages\",\"Fastfood\",\"Fastfood\",\"Beverages\",\"Beverages\",\"Fastfood\",\"Beverages\",\"Beverages\",\"Fastfood\",\"Fastfood\",\"Beverages\",\"Beverages\",\"Fastfood\",\"Fastfood\",\"Fastfood\",\"Fastfood\",\"Beverages\",\"Fastfood\",\"Fastfood\",\"Beverages\",\"Beverages\",\"Fastfood\",\"Beverages\",\"Beverages\",\"Fastfood\",\"Beverages\",\"Beverages\",\"Fastfood\",\"Fastfood\",\"Fastfood\",\"Fastfood\",\"Beverages\",\"Beverages\",\"Fastfood\",\"Fastfood\",\"Fastfood\",\"Beverages\",\"Beverages\",\"Beverages\",\"Beverages\",\"Fastfood\",\"Beverages\",\"Fastfood\",\"Fastfood\",\"Fastfood\",\"Fastfood\",\"Beverages\",\"Fastfood\",\"Fastfood\",\"Fastfood\",\"Fastfood\",\"Fastfood\",\"Fastfood\",\"Beverages\",\"Fastfood\",\"Beverages\",\"Fastfood\",\"Fastfood\",\"Fastfood\",\"Fastfood\",\"Fastfood\",\"Beverages\",\"Beverages\",\"Fastfood\",\"Fastfood\",\"Fastfood\",\"Fastfood\",\"Fastfood\",\"Fastfood\",\"Beverages\",\"Fastfood\",\"Fastfood\",\"Fastfood\",\"Beverages\",\"Fastfood\",\"Fastfood\",\"Beverages\",\"Fastfood\",\"Fastfood\",\"Beverages\",\"Beverages\",\"Fastfood\",\"Fastfood\",\"Fastfood\",\"Beverages\",\"Fastfood\",\"Beverages\",\"Beverages\",\"Fastfood\",\"Fastfood\",\"Fastfood\",\"Beverages\",\"Fastfood\",\"Fastfood\",\"Fastfood\",\"Fastfood\",\"Fastfood\",\"Fastfood\",\"Fastfood\",\"Fastfood\",\"Fastfood\",\"Beverages\",\"Fastfood\",\"Fastfood\",\"Fastfood\",\"Fastfood\",\"Beverages\",\"Fastfood\",\"Fastfood\",\"Fastfood\",\"Beverages\",\"Fastfood\",\"Fastfood\",\"Beverages\",\"Beverages\",\"Beverages\",\"Fastfood\",\"Fastfood\",\"Fastfood\",\"Beverages\",\"Fastfood\",\"Fastfood\",\"Beverages\",\"Fastfood\",\"Fastfood\",\"Fastfood\",\"Fastfood\",\"Fastfood\",\"Beverages\",\"Beverages\",\"Fastfood\",\"Fastfood\",\"Beverages\",\"Fastfood\",\"Fastfood\",\"Beverages\",\"Fastfood\",\"Fastfood\",\"Fastfood\",\"Fastfood\",\"Fastfood\",\"Beverages\",\"Fastfood\",\"Fastfood\",\"Fastfood\",\"Fastfood\",\"Fastfood\"],\"legendgroup\":\"\",\"name\":\"\",\"showlegend\":true,\"type\":\"pie\",\"textinfo\":\"percent+label\",\"textposition\":\"inside\"}],                        {\"template\":{\"data\":{\"histogram2dcontour\":[{\"type\":\"histogram2dcontour\",\"colorbar\":{\"outlinewidth\":0,\"ticks\":\"\"},\"colorscale\":[[0.0,\"#0d0887\"],[0.1111111111111111,\"#46039f\"],[0.2222222222222222,\"#7201a8\"],[0.3333333333333333,\"#9c179e\"],[0.4444444444444444,\"#bd3786\"],[0.5555555555555556,\"#d8576b\"],[0.6666666666666666,\"#ed7953\"],[0.7777777777777778,\"#fb9f3a\"],[0.8888888888888888,\"#fdca26\"],[1.0,\"#f0f921\"]]}],\"choropleth\":[{\"type\":\"choropleth\",\"colorbar\":{\"outlinewidth\":0,\"ticks\":\"\"}}],\"histogram2d\":[{\"type\":\"histogram2d\",\"colorbar\":{\"outlinewidth\":0,\"ticks\":\"\"},\"colorscale\":[[0.0,\"#0d0887\"],[0.1111111111111111,\"#46039f\"],[0.2222222222222222,\"#7201a8\"],[0.3333333333333333,\"#9c179e\"],[0.4444444444444444,\"#bd3786\"],[0.5555555555555556,\"#d8576b\"],[0.6666666666666666,\"#ed7953\"],[0.7777777777777778,\"#fb9f3a\"],[0.8888888888888888,\"#fdca26\"],[1.0,\"#f0f921\"]]}],\"heatmap\":[{\"type\":\"heatmap\",\"colorbar\":{\"outlinewidth\":0,\"ticks\":\"\"},\"colorscale\":[[0.0,\"#0d0887\"],[0.1111111111111111,\"#46039f\"],[0.2222222222222222,\"#7201a8\"],[0.3333333333333333,\"#9c179e\"],[0.4444444444444444,\"#bd3786\"],[0.5555555555555556,\"#d8576b\"],[0.6666666666666666,\"#ed7953\"],[0.7777777777777778,\"#fb9f3a\"],[0.8888888888888888,\"#fdca26\"],[1.0,\"#f0f921\"]]}],\"heatmapgl\":[{\"type\":\"heatmapgl\",\"colorbar\":{\"outlinewidth\":0,\"ticks\":\"\"},\"colorscale\":[[0.0,\"#0d0887\"],[0.1111111111111111,\"#46039f\"],[0.2222222222222222,\"#7201a8\"],[0.3333333333333333,\"#9c179e\"],[0.4444444444444444,\"#bd3786\"],[0.5555555555555556,\"#d8576b\"],[0.6666666666666666,\"#ed7953\"],[0.7777777777777778,\"#fb9f3a\"],[0.8888888888888888,\"#fdca26\"],[1.0,\"#f0f921\"]]}],\"contourcarpet\":[{\"type\":\"contourcarpet\",\"colorbar\":{\"outlinewidth\":0,\"ticks\":\"\"}}],\"contour\":[{\"type\":\"contour\",\"colorbar\":{\"outlinewidth\":0,\"ticks\":\"\"},\"colorscale\":[[0.0,\"#0d0887\"],[0.1111111111111111,\"#46039f\"],[0.2222222222222222,\"#7201a8\"],[0.3333333333333333,\"#9c179e\"],[0.4444444444444444,\"#bd3786\"],[0.5555555555555556,\"#d8576b\"],[0.6666666666666666,\"#ed7953\"],[0.7777777777777778,\"#fb9f3a\"],[0.8888888888888888,\"#fdca26\"],[1.0,\"#f0f921\"]]}],\"surface\":[{\"type\":\"surface\",\"colorbar\":{\"outlinewidth\":0,\"ticks\":\"\"},\"colorscale\":[[0.0,\"#0d0887\"],[0.1111111111111111,\"#46039f\"],[0.2222222222222222,\"#7201a8\"],[0.3333333333333333,\"#9c179e\"],[0.4444444444444444,\"#bd3786\"],[0.5555555555555556,\"#d8576b\"],[0.6666666666666666,\"#ed7953\"],[0.7777777777777778,\"#fb9f3a\"],[0.8888888888888888,\"#fdca26\"],[1.0,\"#f0f921\"]]}],\"mesh3d\":[{\"type\":\"mesh3d\",\"colorbar\":{\"outlinewidth\":0,\"ticks\":\"\"}}],\"scatter\":[{\"fillpattern\":{\"fillmode\":\"overlay\",\"size\":10,\"solidity\":0.2},\"type\":\"scatter\"}],\"parcoords\":[{\"type\":\"parcoords\",\"line\":{\"colorbar\":{\"outlinewidth\":0,\"ticks\":\"\"}}}],\"scatterpolargl\":[{\"type\":\"scatterpolargl\",\"marker\":{\"colorbar\":{\"outlinewidth\":0,\"ticks\":\"\"}}}],\"bar\":[{\"error_x\":{\"color\":\"#2a3f5f\"},\"error_y\":{\"color\":\"#2a3f5f\"},\"marker\":{\"line\":{\"color\":\"#E5ECF6\",\"width\":0.5},\"pattern\":{\"fillmode\":\"overlay\",\"size\":10,\"solidity\":0.2}},\"type\":\"bar\"}],\"scattergeo\":[{\"type\":\"scattergeo\",\"marker\":{\"colorbar\":{\"outlinewidth\":0,\"ticks\":\"\"}}}],\"scatterpolar\":[{\"type\":\"scatterpolar\",\"marker\":{\"colorbar\":{\"outlinewidth\":0,\"ticks\":\"\"}}}],\"histogram\":[{\"marker\":{\"pattern\":{\"fillmode\":\"overlay\",\"size\":10,\"solidity\":0.2}},\"type\":\"histogram\"}],\"scattergl\":[{\"type\":\"scattergl\",\"marker\":{\"colorbar\":{\"outlinewidth\":0,\"ticks\":\"\"}}}],\"scatter3d\":[{\"type\":\"scatter3d\",\"line\":{\"colorbar\":{\"outlinewidth\":0,\"ticks\":\"\"}},\"marker\":{\"colorbar\":{\"outlinewidth\":0,\"ticks\":\"\"}}}],\"scattermapbox\":[{\"type\":\"scattermapbox\",\"marker\":{\"colorbar\":{\"outlinewidth\":0,\"ticks\":\"\"}}}],\"scatterternary\":[{\"type\":\"scatterternary\",\"marker\":{\"colorbar\":{\"outlinewidth\":0,\"ticks\":\"\"}}}],\"scattercarpet\":[{\"type\":\"scattercarpet\",\"marker\":{\"colorbar\":{\"outlinewidth\":0,\"ticks\":\"\"}}}],\"carpet\":[{\"aaxis\":{\"endlinecolor\":\"#2a3f5f\",\"gridcolor\":\"white\",\"linecolor\":\"white\",\"minorgridcolor\":\"white\",\"startlinecolor\":\"#2a3f5f\"},\"baxis\":{\"endlinecolor\":\"#2a3f5f\",\"gridcolor\":\"white\",\"linecolor\":\"white\",\"minorgridcolor\":\"white\",\"startlinecolor\":\"#2a3f5f\"},\"type\":\"carpet\"}],\"table\":[{\"cells\":{\"fill\":{\"color\":\"#EBF0F8\"},\"line\":{\"color\":\"white\"}},\"header\":{\"fill\":{\"color\":\"#C8D4E3\"},\"line\":{\"color\":\"white\"}},\"type\":\"table\"}],\"barpolar\":[{\"marker\":{\"line\":{\"color\":\"#E5ECF6\",\"width\":0.5},\"pattern\":{\"fillmode\":\"overlay\",\"size\":10,\"solidity\":0.2}},\"type\":\"barpolar\"}],\"pie\":[{\"automargin\":true,\"type\":\"pie\"}]},\"layout\":{\"autotypenumbers\":\"strict\",\"colorway\":[\"#636efa\",\"#EF553B\",\"#00cc96\",\"#ab63fa\",\"#FFA15A\",\"#19d3f3\",\"#FF6692\",\"#B6E880\",\"#FF97FF\",\"#FECB52\"],\"font\":{\"color\":\"#2a3f5f\"},\"hovermode\":\"closest\",\"hoverlabel\":{\"align\":\"left\"},\"paper_bgcolor\":\"white\",\"plot_bgcolor\":\"#E5ECF6\",\"polar\":{\"bgcolor\":\"#E5ECF6\",\"angularaxis\":{\"gridcolor\":\"white\",\"linecolor\":\"white\",\"ticks\":\"\"},\"radialaxis\":{\"gridcolor\":\"white\",\"linecolor\":\"white\",\"ticks\":\"\"}},\"ternary\":{\"bgcolor\":\"#E5ECF6\",\"aaxis\":{\"gridcolor\":\"white\",\"linecolor\":\"white\",\"ticks\":\"\"},\"baxis\":{\"gridcolor\":\"white\",\"linecolor\":\"white\",\"ticks\":\"\"},\"caxis\":{\"gridcolor\":\"white\",\"linecolor\":\"white\",\"ticks\":\"\"}},\"coloraxis\":{\"colorbar\":{\"outlinewidth\":0,\"ticks\":\"\"}},\"colorscale\":{\"sequential\":[[0.0,\"#0d0887\"],[0.1111111111111111,\"#46039f\"],[0.2222222222222222,\"#7201a8\"],[0.3333333333333333,\"#9c179e\"],[0.4444444444444444,\"#bd3786\"],[0.5555555555555556,\"#d8576b\"],[0.6666666666666666,\"#ed7953\"],[0.7777777777777778,\"#fb9f3a\"],[0.8888888888888888,\"#fdca26\"],[1.0,\"#f0f921\"]],\"sequentialminus\":[[0.0,\"#0d0887\"],[0.1111111111111111,\"#46039f\"],[0.2222222222222222,\"#7201a8\"],[0.3333333333333333,\"#9c179e\"],[0.4444444444444444,\"#bd3786\"],[0.5555555555555556,\"#d8576b\"],[0.6666666666666666,\"#ed7953\"],[0.7777777777777778,\"#fb9f3a\"],[0.8888888888888888,\"#fdca26\"],[1.0,\"#f0f921\"]],\"diverging\":[[0,\"#8e0152\"],[0.1,\"#c51b7d\"],[0.2,\"#de77ae\"],[0.3,\"#f1b6da\"],[0.4,\"#fde0ef\"],[0.5,\"#f7f7f7\"],[0.6,\"#e6f5d0\"],[0.7,\"#b8e186\"],[0.8,\"#7fbc41\"],[0.9,\"#4d9221\"],[1,\"#276419\"]]},\"xaxis\":{\"gridcolor\":\"white\",\"linecolor\":\"white\",\"ticks\":\"\",\"title\":{\"standoff\":15},\"zerolinecolor\":\"white\",\"automargin\":true,\"zerolinewidth\":2},\"yaxis\":{\"gridcolor\":\"white\",\"linecolor\":\"white\",\"ticks\":\"\",\"title\":{\"standoff\":15},\"zerolinecolor\":\"white\",\"automargin\":true,\"zerolinewidth\":2},\"scene\":{\"xaxis\":{\"backgroundcolor\":\"#E5ECF6\",\"gridcolor\":\"white\",\"linecolor\":\"white\",\"showbackground\":true,\"ticks\":\"\",\"zerolinecolor\":\"white\",\"gridwidth\":2},\"yaxis\":{\"backgroundcolor\":\"#E5ECF6\",\"gridcolor\":\"white\",\"linecolor\":\"white\",\"showbackground\":true,\"ticks\":\"\",\"zerolinecolor\":\"white\",\"gridwidth\":2},\"zaxis\":{\"backgroundcolor\":\"#E5ECF6\",\"gridcolor\":\"white\",\"linecolor\":\"white\",\"showbackground\":true,\"ticks\":\"\",\"zerolinecolor\":\"white\",\"gridwidth\":2}},\"shapedefaults\":{\"line\":{\"color\":\"#2a3f5f\"}},\"annotationdefaults\":{\"arrowcolor\":\"#2a3f5f\",\"arrowhead\":0,\"arrowwidth\":1},\"geo\":{\"bgcolor\":\"white\",\"landcolor\":\"#E5ECF6\",\"subunitcolor\":\"white\",\"showland\":true,\"showlakes\":true,\"lakecolor\":\"white\"},\"title\":{\"x\":0.05},\"mapbox\":{\"style\":\"light\"}}},\"legend\":{\"tracegroupgap\":0},\"title\":{\"text\":\"Item Type Distribution\"}},                        {\"responsive\": true}                    ).then(function(){\n",
              "                            \n",
              "var gd = document.getElementById('e46cc283-4479-4b96-a070-1bc52a4f2610');\n",
              "var x = new MutationObserver(function (mutations, observer) {{\n",
              "        var display = window.getComputedStyle(gd).display;\n",
              "        if (!display || display === 'none') {{\n",
              "            console.log([gd, 'removed!']);\n",
              "            Plotly.purge(gd);\n",
              "            observer.disconnect();\n",
              "        }}\n",
              "}});\n",
              "\n",
              "// Listen for the removal of the full notebook cells\n",
              "var notebookContainer = gd.closest('#notebook-container');\n",
              "if (notebookContainer) {{\n",
              "    x.observe(notebookContainer, {childList: true});\n",
              "}}\n",
              "\n",
              "// Listen for the clearing of the current output cell\n",
              "var outputEl = gd.closest('.output');\n",
              "if (outputEl) {{\n",
              "    x.observe(outputEl, {childList: true});\n",
              "}}\n",
              "\n",
              "                        })                };                            </script>        </div>\n",
              "</body>\n",
              "</html>"
            ]
          },
          "metadata": {}
        }
      ]
    },
    {
      "cell_type": "markdown",
      "source": [
        "# Data Preprocessing - 2"
      ],
      "metadata": {
        "id": "5yVjqRGHSMVj"
      }
    },
    {
      "cell_type": "markdown",
      "source": [
        "**Label Encoding**"
      ],
      "metadata": {
        "id": "CHox_mjZSvhD"
      }
    },
    {
      "cell_type": "code",
      "source": [
        "le = LabelEncoder()\n",
        "df['item_name']=le.fit_transform(df['item_name'])\n",
        "df['item_type']=le.fit_transform(df['item_type'])\n",
        "df['transaction_type']=le.fit_transform(df['transaction_type'])\n",
        "df['time_of_sale']=le.fit_transform(df['time_of_sale'])"
      ],
      "metadata": {
        "id": "A9IZj7FmRk4I"
      },
      "execution_count": 22,
      "outputs": []
    },
    {
      "cell_type": "code",
      "source": [
        "df.head()"
      ],
      "metadata": {
        "colab": {
          "base_uri": "https://localhost:8080/",
          "height": 206
        },
        "id": "zGAS0gysTQlw",
        "outputId": "181c35c8-34ba-461c-cede-c62ab9a146f9"
      },
      "execution_count": 23,
      "outputs": [
        {
          "output_type": "execute_result",
          "data": {
            "text/plain": [
              "   item_name  item_type  item_price  quantity  transaction_amount  \\\n",
              "0          0          1          20        13                 260   \n",
              "1          6          1          20        15                 300   \n",
              "2          6          1          20         1                  20   \n",
              "3          5          0          25         6                 150   \n",
              "4          5          0          25         8                 200   \n",
              "\n",
              "   transaction_type  time_of_sale  \n",
              "0                 0             4  \n",
              "1                 0             0  \n",
              "2                 0             0  \n",
              "3                 1             4  \n",
              "4                 1             1  "
            ],
            "text/html": [
              "\n",
              "  <div id=\"df-b5971bb0-97b8-4894-9c90-73c10c7a3273\" class=\"colab-df-container\">\n",
              "    <div>\n",
              "<style scoped>\n",
              "    .dataframe tbody tr th:only-of-type {\n",
              "        vertical-align: middle;\n",
              "    }\n",
              "\n",
              "    .dataframe tbody tr th {\n",
              "        vertical-align: top;\n",
              "    }\n",
              "\n",
              "    .dataframe thead th {\n",
              "        text-align: right;\n",
              "    }\n",
              "</style>\n",
              "<table border=\"1\" class=\"dataframe\">\n",
              "  <thead>\n",
              "    <tr style=\"text-align: right;\">\n",
              "      <th></th>\n",
              "      <th>item_name</th>\n",
              "      <th>item_type</th>\n",
              "      <th>item_price</th>\n",
              "      <th>quantity</th>\n",
              "      <th>transaction_amount</th>\n",
              "      <th>transaction_type</th>\n",
              "      <th>time_of_sale</th>\n",
              "    </tr>\n",
              "  </thead>\n",
              "  <tbody>\n",
              "    <tr>\n",
              "      <th>0</th>\n",
              "      <td>0</td>\n",
              "      <td>1</td>\n",
              "      <td>20</td>\n",
              "      <td>13</td>\n",
              "      <td>260</td>\n",
              "      <td>0</td>\n",
              "      <td>4</td>\n",
              "    </tr>\n",
              "    <tr>\n",
              "      <th>1</th>\n",
              "      <td>6</td>\n",
              "      <td>1</td>\n",
              "      <td>20</td>\n",
              "      <td>15</td>\n",
              "      <td>300</td>\n",
              "      <td>0</td>\n",
              "      <td>0</td>\n",
              "    </tr>\n",
              "    <tr>\n",
              "      <th>2</th>\n",
              "      <td>6</td>\n",
              "      <td>1</td>\n",
              "      <td>20</td>\n",
              "      <td>1</td>\n",
              "      <td>20</td>\n",
              "      <td>0</td>\n",
              "      <td>0</td>\n",
              "    </tr>\n",
              "    <tr>\n",
              "      <th>3</th>\n",
              "      <td>5</td>\n",
              "      <td>0</td>\n",
              "      <td>25</td>\n",
              "      <td>6</td>\n",
              "      <td>150</td>\n",
              "      <td>1</td>\n",
              "      <td>4</td>\n",
              "    </tr>\n",
              "    <tr>\n",
              "      <th>4</th>\n",
              "      <td>5</td>\n",
              "      <td>0</td>\n",
              "      <td>25</td>\n",
              "      <td>8</td>\n",
              "      <td>200</td>\n",
              "      <td>1</td>\n",
              "      <td>1</td>\n",
              "    </tr>\n",
              "  </tbody>\n",
              "</table>\n",
              "</div>\n",
              "    <div class=\"colab-df-buttons\">\n",
              "\n",
              "  <div class=\"colab-df-container\">\n",
              "    <button class=\"colab-df-convert\" onclick=\"convertToInteractive('df-b5971bb0-97b8-4894-9c90-73c10c7a3273')\"\n",
              "            title=\"Convert this dataframe to an interactive table.\"\n",
              "            style=\"display:none;\">\n",
              "\n",
              "  <svg xmlns=\"http://www.w3.org/2000/svg\" height=\"24px\" viewBox=\"0 -960 960 960\">\n",
              "    <path d=\"M120-120v-720h720v720H120Zm60-500h600v-160H180v160Zm220 220h160v-160H400v160Zm0 220h160v-160H400v160ZM180-400h160v-160H180v160Zm440 0h160v-160H620v160ZM180-180h160v-160H180v160Zm440 0h160v-160H620v160Z\"/>\n",
              "  </svg>\n",
              "    </button>\n",
              "\n",
              "  <style>\n",
              "    .colab-df-container {\n",
              "      display:flex;\n",
              "      gap: 12px;\n",
              "    }\n",
              "\n",
              "    .colab-df-convert {\n",
              "      background-color: #E8F0FE;\n",
              "      border: none;\n",
              "      border-radius: 50%;\n",
              "      cursor: pointer;\n",
              "      display: none;\n",
              "      fill: #1967D2;\n",
              "      height: 32px;\n",
              "      padding: 0 0 0 0;\n",
              "      width: 32px;\n",
              "    }\n",
              "\n",
              "    .colab-df-convert:hover {\n",
              "      background-color: #E2EBFA;\n",
              "      box-shadow: 0px 1px 2px rgba(60, 64, 67, 0.3), 0px 1px 3px 1px rgba(60, 64, 67, 0.15);\n",
              "      fill: #174EA6;\n",
              "    }\n",
              "\n",
              "    .colab-df-buttons div {\n",
              "      margin-bottom: 4px;\n",
              "    }\n",
              "\n",
              "    [theme=dark] .colab-df-convert {\n",
              "      background-color: #3B4455;\n",
              "      fill: #D2E3FC;\n",
              "    }\n",
              "\n",
              "    [theme=dark] .colab-df-convert:hover {\n",
              "      background-color: #434B5C;\n",
              "      box-shadow: 0px 1px 3px 1px rgba(0, 0, 0, 0.15);\n",
              "      filter: drop-shadow(0px 1px 2px rgba(0, 0, 0, 0.3));\n",
              "      fill: #FFFFFF;\n",
              "    }\n",
              "  </style>\n",
              "\n",
              "    <script>\n",
              "      const buttonEl =\n",
              "        document.querySelector('#df-b5971bb0-97b8-4894-9c90-73c10c7a3273 button.colab-df-convert');\n",
              "      buttonEl.style.display =\n",
              "        google.colab.kernel.accessAllowed ? 'block' : 'none';\n",
              "\n",
              "      async function convertToInteractive(key) {\n",
              "        const element = document.querySelector('#df-b5971bb0-97b8-4894-9c90-73c10c7a3273');\n",
              "        const dataTable =\n",
              "          await google.colab.kernel.invokeFunction('convertToInteractive',\n",
              "                                                    [key], {});\n",
              "        if (!dataTable) return;\n",
              "\n",
              "        const docLinkHtml = 'Like what you see? Visit the ' +\n",
              "          '<a target=\"_blank\" href=https://colab.research.google.com/notebooks/data_table.ipynb>data table notebook</a>'\n",
              "          + ' to learn more about interactive tables.';\n",
              "        element.innerHTML = '';\n",
              "        dataTable['output_type'] = 'display_data';\n",
              "        await google.colab.output.renderOutput(dataTable, element);\n",
              "        const docLink = document.createElement('div');\n",
              "        docLink.innerHTML = docLinkHtml;\n",
              "        element.appendChild(docLink);\n",
              "      }\n",
              "    </script>\n",
              "  </div>\n",
              "\n",
              "\n",
              "<div id=\"df-65f66a3b-b229-4ac8-8c16-8dda351cc880\">\n",
              "  <button class=\"colab-df-quickchart\" onclick=\"quickchart('df-65f66a3b-b229-4ac8-8c16-8dda351cc880')\"\n",
              "            title=\"Suggest charts\"\n",
              "            style=\"display:none;\">\n",
              "\n",
              "<svg xmlns=\"http://www.w3.org/2000/svg\" height=\"24px\"viewBox=\"0 0 24 24\"\n",
              "     width=\"24px\">\n",
              "    <g>\n",
              "        <path d=\"M19 3H5c-1.1 0-2 .9-2 2v14c0 1.1.9 2 2 2h14c1.1 0 2-.9 2-2V5c0-1.1-.9-2-2-2zM9 17H7v-7h2v7zm4 0h-2V7h2v10zm4 0h-2v-4h2v4z\"/>\n",
              "    </g>\n",
              "</svg>\n",
              "  </button>\n",
              "\n",
              "<style>\n",
              "  .colab-df-quickchart {\n",
              "      --bg-color: #E8F0FE;\n",
              "      --fill-color: #1967D2;\n",
              "      --hover-bg-color: #E2EBFA;\n",
              "      --hover-fill-color: #174EA6;\n",
              "      --disabled-fill-color: #AAA;\n",
              "      --disabled-bg-color: #DDD;\n",
              "  }\n",
              "\n",
              "  [theme=dark] .colab-df-quickchart {\n",
              "      --bg-color: #3B4455;\n",
              "      --fill-color: #D2E3FC;\n",
              "      --hover-bg-color: #434B5C;\n",
              "      --hover-fill-color: #FFFFFF;\n",
              "      --disabled-bg-color: #3B4455;\n",
              "      --disabled-fill-color: #666;\n",
              "  }\n",
              "\n",
              "  .colab-df-quickchart {\n",
              "    background-color: var(--bg-color);\n",
              "    border: none;\n",
              "    border-radius: 50%;\n",
              "    cursor: pointer;\n",
              "    display: none;\n",
              "    fill: var(--fill-color);\n",
              "    height: 32px;\n",
              "    padding: 0;\n",
              "    width: 32px;\n",
              "  }\n",
              "\n",
              "  .colab-df-quickchart:hover {\n",
              "    background-color: var(--hover-bg-color);\n",
              "    box-shadow: 0 1px 2px rgba(60, 64, 67, 0.3), 0 1px 3px 1px rgba(60, 64, 67, 0.15);\n",
              "    fill: var(--button-hover-fill-color);\n",
              "  }\n",
              "\n",
              "  .colab-df-quickchart-complete:disabled,\n",
              "  .colab-df-quickchart-complete:disabled:hover {\n",
              "    background-color: var(--disabled-bg-color);\n",
              "    fill: var(--disabled-fill-color);\n",
              "    box-shadow: none;\n",
              "  }\n",
              "\n",
              "  .colab-df-spinner {\n",
              "    border: 2px solid var(--fill-color);\n",
              "    border-color: transparent;\n",
              "    border-bottom-color: var(--fill-color);\n",
              "    animation:\n",
              "      spin 1s steps(1) infinite;\n",
              "  }\n",
              "\n",
              "  @keyframes spin {\n",
              "    0% {\n",
              "      border-color: transparent;\n",
              "      border-bottom-color: var(--fill-color);\n",
              "      border-left-color: var(--fill-color);\n",
              "    }\n",
              "    20% {\n",
              "      border-color: transparent;\n",
              "      border-left-color: var(--fill-color);\n",
              "      border-top-color: var(--fill-color);\n",
              "    }\n",
              "    30% {\n",
              "      border-color: transparent;\n",
              "      border-left-color: var(--fill-color);\n",
              "      border-top-color: var(--fill-color);\n",
              "      border-right-color: var(--fill-color);\n",
              "    }\n",
              "    40% {\n",
              "      border-color: transparent;\n",
              "      border-right-color: var(--fill-color);\n",
              "      border-top-color: var(--fill-color);\n",
              "    }\n",
              "    60% {\n",
              "      border-color: transparent;\n",
              "      border-right-color: var(--fill-color);\n",
              "    }\n",
              "    80% {\n",
              "      border-color: transparent;\n",
              "      border-right-color: var(--fill-color);\n",
              "      border-bottom-color: var(--fill-color);\n",
              "    }\n",
              "    90% {\n",
              "      border-color: transparent;\n",
              "      border-bottom-color: var(--fill-color);\n",
              "    }\n",
              "  }\n",
              "</style>\n",
              "\n",
              "  <script>\n",
              "    async function quickchart(key) {\n",
              "      const quickchartButtonEl =\n",
              "        document.querySelector('#' + key + ' button');\n",
              "      quickchartButtonEl.disabled = true;  // To prevent multiple clicks.\n",
              "      quickchartButtonEl.classList.add('colab-df-spinner');\n",
              "      try {\n",
              "        const charts = await google.colab.kernel.invokeFunction(\n",
              "            'suggestCharts', [key], {});\n",
              "      } catch (error) {\n",
              "        console.error('Error during call to suggestCharts:', error);\n",
              "      }\n",
              "      quickchartButtonEl.classList.remove('colab-df-spinner');\n",
              "      quickchartButtonEl.classList.add('colab-df-quickchart-complete');\n",
              "    }\n",
              "    (() => {\n",
              "      let quickchartButtonEl =\n",
              "        document.querySelector('#df-65f66a3b-b229-4ac8-8c16-8dda351cc880 button');\n",
              "      quickchartButtonEl.style.display =\n",
              "        google.colab.kernel.accessAllowed ? 'block' : 'none';\n",
              "    })();\n",
              "  </script>\n",
              "</div>\n",
              "    </div>\n",
              "  </div>\n"
            ]
          },
          "metadata": {},
          "execution_count": 23
        }
      ]
    },
    {
      "cell_type": "markdown",
      "source": [
        "**Outlier Checking**"
      ],
      "metadata": {
        "id": "9_q99h4nTZP4"
      }
    },
    {
      "cell_type": "code",
      "source": [
        "sns.boxplot(df['item_price'])"
      ],
      "metadata": {
        "colab": {
          "base_uri": "https://localhost:8080/",
          "height": 447
        },
        "id": "HATW_ISUTSBA",
        "outputId": "fcca5a24-5560-4180-d522-028ee60690aa"
      },
      "execution_count": 24,
      "outputs": [
        {
          "output_type": "execute_result",
          "data": {
            "text/plain": [
              "<Axes: >"
            ]
          },
          "metadata": {},
          "execution_count": 24
        },
        {
          "output_type": "display_data",
          "data": {
            "text/plain": [
              "<Figure size 640x480 with 1 Axes>"
            ],
            "image/png": "[encoded data removed]"
          },
          "metadata": {}
        }
      ]
    },
    {
      "cell_type": "code",
      "source": [
        "sns.boxplot(df['quantity'])"
      ],
      "metadata": {
        "colab": {
          "base_uri": "https://localhost:8080/",
          "height": 447
        },
        "id": "rtDL9UZvTpB0",
        "outputId": "81a3cee3-d72f-4457-db3c-f56dded506a5"
      },
      "execution_count": 25,
      "outputs": [
        {
          "output_type": "execute_result",
          "data": {
            "text/plain": [
              "<Axes: >"
            ]
          },
          "metadata": {},
          "execution_count": 25
        },
        {
          "output_type": "display_data",
          "data": {
            "text/plain": [
              "<Figure size 640x480 with 1 Axes>"
            ],
            "image/png": "[encoded data removed]"
          },
          "metadata": {}
        }
      ]
    },
    {
      "cell_type": "code",
      "source": [
        "sns.boxplot(df['transaction_amount'])"
      ],
      "metadata": {
        "id": "bl57rKvdTwYQ",
        "outputId": "1439a97d-ae9a-4c24-c5a1-bde6345c1101",
        "colab": {
          "base_uri": "https://localhost:8080/",
          "height": 447
        }
      },
      "execution_count": 26,
      "outputs": [
        {
          "output_type": "execute_result",
          "data": {
            "text/plain": [
              "<Axes: >"
            ]
          },
          "metadata": {},
          "execution_count": 26
        },
        {
          "output_type": "display_data",
          "data": {
            "text/plain": [
              "<Figure size 640x480 with 1 Axes>"
            ],
            "image/png": "[encoded data removed]"
          },
          "metadata": {}
        }
      ]
    },
    {
      "cell_type": "code",
      "source": [
        "# Outlier Removal using IQR\n",
        "q1 = df['transaction_amount'].quantile(0.25) #Quartile 1\n",
        "q3 = df['transaction_amount'].quantile(0.75) #Quartile 3\n",
        "iqr = q3-q1\n",
        "upper_limit = q3 + 1.5*iqr\n",
        "df['transaction_amount'] = np.where(df['transaction_amount']>upper_limit,240,df['transaction_amount'])"
      ],
      "metadata": {
        "id": "-lwsUmVRT2CL"
      },
      "execution_count": 27,
      "outputs": []
    },
    {
      "cell_type": "code",
      "source": [
        "sns.boxplot(df['transaction_amount'])"
      ],
      "metadata": {
        "colab": {
          "base_uri": "https://localhost:8080/",
          "height": 447
        },
        "id": "JLFvxsaMUsei",
        "outputId": "5bfd4503-49ba-4532-9247-4ca2d7e2a888"
      },
      "execution_count": 28,
      "outputs": [
        {
          "output_type": "execute_result",
          "data": {
            "text/plain": [
              "<Axes: >"
            ]
          },
          "metadata": {},
          "execution_count": 28
        },
        {
          "output_type": "display_data",
          "data": {
            "text/plain": [
              "<Figure size 640x480 with 1 Axes>"
            ],
            "image/png": "[encoded data removed]"
          },
          "metadata": {}
        }
      ]
    },
    {
      "cell_type": "markdown",
      "source": [
        "**Finding correlation with Target Variable (Quantity)**"
      ],
      "metadata": {
        "id": "uaVzghNCVhTA"
      }
    },
    {
      "cell_type": "code",
      "source": [
        "df.corr()['quantity'].sort_values(ascending = False)"
      ],
      "metadata": {
        "colab": {
          "base_uri": "https://localhost:8080/"
        },
        "id": "dM6Nf4h2U_iG",
        "outputId": "1c865884-0fe2-4a2a-b024-e9f181cbf60b"
      },
      "execution_count": 29,
      "outputs": [
        {
          "output_type": "execute_result",
          "data": {
            "text/plain": [
              "quantity              1.000000\n",
              "transaction_amount    0.680178\n",
              "item_price            0.050361\n",
              "time_of_sale          0.034010\n",
              "item_name            -0.013804\n",
              "item_type            -0.037189\n",
              "transaction_type     -0.051753\n",
              "Name: quantity, dtype: float64"
            ]
          },
          "metadata": {},
          "execution_count": 29
        }
      ]
    },
    {
      "cell_type": "markdown",
      "source": [
        "**Splitting Dependent(y) and independent(x) variables**"
      ],
      "metadata": {
        "id": "tXNUlT8YV4lm"
      }
    },
    {
      "cell_type": "code",
      "source": [
        "y=df['quantity']\n",
        "x=df.drop(columns=['quantity'],axis=1)"
      ],
      "metadata": {
        "id": "IiCHlIabVtSk"
      },
      "execution_count": 30,
      "outputs": []
    },
    {
      "cell_type": "markdown",
      "source": [
        "**Scaling Independent variables**"
      ],
      "metadata": {
        "id": "tG5Axi5kWPY-"
      }
    },
    {
      "cell_type": "code",
      "source": [
        "x.var()"
      ],
      "metadata": {
        "colab": {
          "base_uri": "https://localhost:8080/"
        },
        "id": "Hix4RVWZWtoa",
        "outputId": "acb5691c-7a3e-4965-e189-0199a95e7182"
      },
      "execution_count": 31,
      "outputs": [
        {
          "output_type": "execute_result",
          "data": {
            "text/plain": [
              "item_name                 3.939263\n",
              "item_type                 0.215620\n",
              "item_price              222.658433\n",
              "transaction_amount    27733.152753\n",
              "transaction_type          0.243354\n",
              "time_of_sale              2.032912\n",
              "dtype: float64"
            ]
          },
          "metadata": {},
          "execution_count": 31
        }
      ]
    },
    {
      "cell_type": "code",
      "source": [
        "scale=MinMaxScaler()\n",
        "x_scaled = pd.DataFrame(scale.fit_transform(x),columns=x.columns)\n",
        "x_scaled.head()"
      ],
      "metadata": {
        "colab": {
          "base_uri": "https://localhost:8080/",
          "height": 206
        },
        "id": "HyT87d6uWK7I",
        "outputId": "b6782fc7-3e34-4024-d977-4429dc8590e7"
      },
      "execution_count": 32,
      "outputs": [
        {
          "output_type": "execute_result",
          "data": {
            "text/plain": [
              "   item_name  item_type  item_price  transaction_amount  transaction_type  \\\n",
              "0   0.000000        1.0       0.000            0.342857               0.0   \n",
              "1   1.000000        1.0       0.000            0.400000               0.0   \n",
              "2   1.000000        1.0       0.000            0.000000               0.0   \n",
              "3   0.833333        0.0       0.125            0.185714               1.0   \n",
              "4   0.833333        0.0       0.125            0.257143               1.0   \n",
              "\n",
              "   time_of_sale  \n",
              "0          1.00  \n",
              "1          0.00  \n",
              "2          0.00  \n",
              "3          1.00  \n",
              "4          0.25  "
            ],
            "text/html": [
              "\n",
              "  <div id=\"df-383bb6ba-1a19-4bcb-afcb-1fb65c41f13a\" class=\"colab-df-container\">\n",
              "    <div>\n",
              "<style scoped>\n",
              "    .dataframe tbody tr th:only-of-type {\n",
              "        vertical-align: middle;\n",
              "    }\n",
              "\n",
              "    .dataframe tbody tr th {\n",
              "        vertical-align: top;\n",
              "    }\n",
              "\n",
              "    .dataframe thead th {\n",
              "        text-align: right;\n",
              "    }\n",
              "</style>\n",
              "<table border=\"1\" class=\"dataframe\">\n",
              "  <thead>\n",
              "    <tr style=\"text-align: right;\">\n",
              "      <th></th>\n",
              "      <th>item_name</th>\n",
              "      <th>item_type</th>\n",
              "      <th>item_price</th>\n",
              "      <th>transaction_amount</th>\n",
              "      <th>transaction_type</th>\n",
              "      <th>time_of_sale</th>\n",
              "    </tr>\n",
              "  </thead>\n",
              "  <tbody>\n",
              "    <tr>\n",
              "      <th>0</th>\n",
              "      <td>0.000000</td>\n",
              "      <td>1.0</td>\n",
              "      <td>0.000</td>\n",
              "      <td>0.342857</td>\n",
              "      <td>0.0</td>\n",
              "      <td>1.00</td>\n",
              "    </tr>\n",
              "    <tr>\n",
              "      <th>1</th>\n",
              "      <td>1.000000</td>\n",
              "      <td>1.0</td>\n",
              "      <td>0.000</td>\n",
              "      <td>0.400000</td>\n",
              "      <td>0.0</td>\n",
              "      <td>0.00</td>\n",
              "    </tr>\n",
              "    <tr>\n",
              "      <th>2</th>\n",
              "      <td>1.000000</td>\n",
              "      <td>1.0</td>\n",
              "      <td>0.000</td>\n",
              "      <td>0.000000</td>\n",
              "      <td>0.0</td>\n",
              "      <td>0.00</td>\n",
              "    </tr>\n",
              "    <tr>\n",
              "      <th>3</th>\n",
              "      <td>0.833333</td>\n",
              "      <td>0.0</td>\n",
              "      <td>0.125</td>\n",
              "      <td>0.185714</td>\n",
              "      <td>1.0</td>\n",
              "      <td>1.00</td>\n",
              "    </tr>\n",
              "    <tr>\n",
              "      <th>4</th>\n",
              "      <td>0.833333</td>\n",
              "      <td>0.0</td>\n",
              "      <td>0.125</td>\n",
              "      <td>0.257143</td>\n",
              "      <td>1.0</td>\n",
              "      <td>0.25</td>\n",
              "    </tr>\n",
              "  </tbody>\n",
              "</table>\n",
              "</div>\n",
              "    <div class=\"colab-df-buttons\">\n",
              "\n",
              "  <div class=\"colab-df-container\">\n",
              "    <button class=\"colab-df-convert\" onclick=\"convertToInteractive('df-383bb6ba-1a19-4bcb-afcb-1fb65c41f13a')\"\n",
              "            title=\"Convert this dataframe to an interactive table.\"\n",
              "            style=\"display:none;\">\n",
              "\n",
              "  <svg xmlns=\"http://www.w3.org/2000/svg\" height=\"24px\" viewBox=\"0 -960 960 960\">\n",
              "    <path d=\"M120-120v-720h720v720H120Zm60-500h600v-160H180v160Zm220 220h160v-160H400v160Zm0 220h160v-160H400v160ZM180-400h160v-160H180v160Zm440 0h160v-160H620v160ZM180-180h160v-160H180v160Zm440 0h160v-160H620v160Z\"/>\n",
              "  </svg>\n",
              "    </button>\n",
              "\n",
              "  <style>\n",
              "    .colab-df-container {\n",
              "      display:flex;\n",
              "      gap: 12px;\n",
              "    }\n",
              "\n",
              "    .colab-df-convert {\n",
              "      background-color: #E8F0FE;\n",
              "      border: none;\n",
              "      border-radius: 50%;\n",
              "      cursor: pointer;\n",
              "      display: none;\n",
              "      fill: #1967D2;\n",
              "      height: 32px;\n",
              "      padding: 0 0 0 0;\n",
              "      width: 32px;\n",
              "    }\n",
              "\n",
              "    .colab-df-convert:hover {\n",
              "      background-color: #E2EBFA;\n",
              "      box-shadow: 0px 1px 2px rgba(60, 64, 67, 0.3), 0px 1px 3px 1px rgba(60, 64, 67, 0.15);\n",
              "      fill: #174EA6;\n",
              "    }\n",
              "\n",
              "    .colab-df-buttons div {\n",
              "      margin-bottom: 4px;\n",
              "    }\n",
              "\n",
              "    [theme=dark] .colab-df-convert {\n",
              "      background-color: #3B4455;\n",
              "      fill: #D2E3FC;\n",
              "    }\n",
              "\n",
              "    [theme=dark] .colab-df-convert:hover {\n",
              "      background-color: #434B5C;\n",
              "      box-shadow: 0px 1px 3px 1px rgba(0, 0, 0, 0.15);\n",
              "      filter: drop-shadow(0px 1px 2px rgba(0, 0, 0, 0.3));\n",
              "      fill: #FFFFFF;\n",
              "    }\n",
              "  </style>\n",
              "\n",
              "    <script>\n",
              "      const buttonEl =\n",
              "        document.querySelector('#df-383bb6ba-1a19-4bcb-afcb-1fb65c41f13a button.colab-df-convert');\n",
              "      buttonEl.style.display =\n",
              "        google.colab.kernel.accessAllowed ? 'block' : 'none';\n",
              "\n",
              "      async function convertToInteractive(key) {\n",
              "        const element = document.querySelector('#df-383bb6ba-1a19-4bcb-afcb-1fb65c41f13a');\n",
              "        const dataTable =\n",
              "          await google.colab.kernel.invokeFunction('convertToInteractive',\n",
              "                                                    [key], {});\n",
              "        if (!dataTable) return;\n",
              "\n",
              "        const docLinkHtml = 'Like what you see? Visit the ' +\n",
              "          '<a target=\"_blank\" href=https://colab.research.google.com/notebooks/data_table.ipynb>data table notebook</a>'\n",
              "          + ' to learn more about interactive tables.';\n",
              "        element.innerHTML = '';\n",
              "        dataTable['output_type'] = 'display_data';\n",
              "        await google.colab.output.renderOutput(dataTable, element);\n",
              "        const docLink = document.createElement('div');\n",
              "        docLink.innerHTML = docLinkHtml;\n",
              "        element.appendChild(docLink);\n",
              "      }\n",
              "    </script>\n",
              "  </div>\n",
              "\n",
              "\n",
              "<div id=\"df-9a33c158-720c-4553-a541-c388757262f2\">\n",
              "  <button class=\"colab-df-quickchart\" onclick=\"quickchart('df-9a33c158-720c-4553-a541-c388757262f2')\"\n",
              "            title=\"Suggest charts\"\n",
              "            style=\"display:none;\">\n",
              "\n",
              "<svg xmlns=\"http://www.w3.org/2000/svg\" height=\"24px\"viewBox=\"0 0 24 24\"\n",
              "     width=\"24px\">\n",
              "    <g>\n",
              "        <path d=\"M19 3H5c-1.1 0-2 .9-2 2v14c0 1.1.9 2 2 2h14c1.1 0 2-.9 2-2V5c0-1.1-.9-2-2-2zM9 17H7v-7h2v7zm4 0h-2V7h2v10zm4 0h-2v-4h2v4z\"/>\n",
              "    </g>\n",
              "</svg>\n",
              "  </button>\n",
              "\n",
              "<style>\n",
              "  .colab-df-quickchart {\n",
              "      --bg-color: #E8F0FE;\n",
              "      --fill-color: #1967D2;\n",
              "      --hover-bg-color: #E2EBFA;\n",
              "      --hover-fill-color: #174EA6;\n",
              "      --disabled-fill-color: #AAA;\n",
              "      --disabled-bg-color: #DDD;\n",
              "  }\n",
              "\n",
              "  [theme=dark] .colab-df-quickchart {\n",
              "      --bg-color: #3B4455;\n",
              "      --fill-color: #D2E3FC;\n",
              "      --hover-bg-color: #434B5C;\n",
              "      --hover-fill-color: #FFFFFF;\n",
              "      --disabled-bg-color: #3B4455;\n",
              "      --disabled-fill-color: #666;\n",
              "  }\n",
              "\n",
              "  .colab-df-quickchart {\n",
              "    background-color: var(--bg-color);\n",
              "    border: none;\n",
              "    border-radius: 50%;\n",
              "    cursor: pointer;\n",
              "    display: none;\n",
              "    fill: var(--fill-color);\n",
              "    height: 32px;\n",
              "    padding: 0;\n",
              "    width: 32px;\n",
              "  }\n",
              "\n",
              "  .colab-df-quickchart:hover {\n",
              "    background-color: var(--hover-bg-color);\n",
              "    box-shadow: 0 1px 2px rgba(60, 64, 67, 0.3), 0 1px 3px 1px rgba(60, 64, 67, 0.15);\n",
              "    fill: var(--button-hover-fill-color);\n",
              "  }\n",
              "\n",
              "  .colab-df-quickchart-complete:disabled,\n",
              "  .colab-df-quickchart-complete:disabled:hover {\n",
              "    background-color: var(--disabled-bg-color);\n",
              "    fill: var(--disabled-fill-color);\n",
              "    box-shadow: none;\n",
              "  }\n",
              "\n",
              "  .colab-df-spinner {\n",
              "    border: 2px solid var(--fill-color);\n",
              "    border-color: transparent;\n",
              "    border-bottom-color: var(--fill-color);\n",
              "    animation:\n",
              "      spin 1s steps(1) infinite;\n",
              "  }\n",
              "\n",
              "  @keyframes spin {\n",
              "    0% {\n",
              "      border-color: transparent;\n",
              "      border-bottom-color: var(--fill-color);\n",
              "      border-left-color: var(--fill-color);\n",
              "    }\n",
              "    20% {\n",
              "      border-color: transparent;\n",
              "      border-left-color: var(--fill-color);\n",
              "      border-top-color: var(--fill-color);\n",
              "    }\n",
              "    30% {\n",
              "      border-color: transparent;\n",
              "      border-left-color: var(--fill-color);\n",
              "      border-top-color: var(--fill-color);\n",
              "      border-right-color: var(--fill-color);\n",
              "    }\n",
              "    40% {\n",
              "      border-color: transparent;\n",
              "      border-right-color: var(--fill-color);\n",
              "      border-top-color: var(--fill-color);\n",
              "    }\n",
              "    60% {\n",
              "      border-color: transparent;\n",
              "      border-right-color: var(--fill-color);\n",
              "    }\n",
              "    80% {\n",
              "      border-color: transparent;\n",
              "      border-right-color: var(--fill-color);\n",
              "      border-bottom-color: var(--fill-color);\n",
              "    }\n",
              "    90% {\n",
              "      border-color: transparent;\n",
              "      border-bottom-color: var(--fill-color);\n",
              "    }\n",
              "  }\n",
              "</style>\n",
              "\n",
              "  <script>\n",
              "    async function quickchart(key) {\n",
              "      const quickchartButtonEl =\n",
              "        document.querySelector('#' + key + ' button');\n",
              "      quickchartButtonEl.disabled = true;  // To prevent multiple clicks.\n",
              "      quickchartButtonEl.classList.add('colab-df-spinner');\n",
              "      try {\n",
              "        const charts = await google.colab.kernel.invokeFunction(\n",
              "            'suggestCharts', [key], {});\n",
              "      } catch (error) {\n",
              "        console.error('Error during call to suggestCharts:', error);\n",
              "      }\n",
              "      quickchartButtonEl.classList.remove('colab-df-spinner');\n",
              "      quickchartButtonEl.classList.add('colab-df-quickchart-complete');\n",
              "    }\n",
              "    (() => {\n",
              "      let quickchartButtonEl =\n",
              "        document.querySelector('#df-9a33c158-720c-4553-a541-c388757262f2 button');\n",
              "      quickchartButtonEl.style.display =\n",
              "        google.colab.kernel.accessAllowed ? 'block' : 'none';\n",
              "    })();\n",
              "  </script>\n",
              "</div>\n",
              "    </div>\n",
              "  </div>\n"
            ]
          },
          "metadata": {},
          "execution_count": 32
        }
      ]
    },
    {
      "cell_type": "markdown",
      "source": [
        "**Train Test Split**"
      ],
      "metadata": {
        "id": "D_ysCjHpXKmE"
      }
    },
    {
      "cell_type": "code",
      "source": [
        "x_train,x_test,y_train,y_test = train_test_split(x_scaled,y,test_size=0.3,random_state=0)"
      ],
      "metadata": {
        "id": "uKeGB4orW_t4"
      },
      "execution_count": 33,
      "outputs": []
    },
    {
      "cell_type": "code",
      "source": [
        "x_train.shape, y_train.shape"
      ],
      "metadata": {
        "colab": {
          "base_uri": "https://localhost:8080/"
        },
        "id": "Pej7Nvb2XS66",
        "outputId": "7019272d-6ad0-47b4-d37b-861f2bd68c3f"
      },
      "execution_count": 34,
      "outputs": [
        {
          "output_type": "execute_result",
          "data": {
            "text/plain": [
              "((700, 6), (700,))"
            ]
          },
          "metadata": {},
          "execution_count": 34
        }
      ]
    },
    {
      "cell_type": "code",
      "source": [
        "x_test.shape, y_test.shape"
      ],
      "metadata": {
        "colab": {
          "base_uri": "https://localhost:8080/"
        },
        "id": "SfsN_DhvXXql",
        "outputId": "7387843e-5921-466d-bc90-b10e0f31539c"
      },
      "execution_count": 35,
      "outputs": [
        {
          "output_type": "execute_result",
          "data": {
            "text/plain": [
              "((300, 6), (300,))"
            ]
          },
          "metadata": {},
          "execution_count": 35
        }
      ]
    },
    {
      "cell_type": "markdown",
      "source": [
        "# Model Bulding - Linear Regression"
      ],
      "metadata": {
        "id": "m7p7m7OhXeGd"
      }
    },
    {
      "cell_type": "code",
      "source": [
        "from sklearn.linear_model import LinearRegression\n",
        "model = LinearRegression()\n",
        "\n",
        "model.fit(x_train,y_train)\n",
        "\n",
        "y_pred_test = model.predict(x_test)\n",
        "y_pred_train = model.predict(x_train)"
      ],
      "metadata": {
        "id": "OK1teu8DXby1"
      },
      "execution_count": 36,
      "outputs": []
    },
    {
      "cell_type": "markdown",
      "source": [
        "**Accuracy of Linear Regression Model**"
      ],
      "metadata": {
        "id": "0eHJaYWjX6Bu"
      }
    },
    {
      "cell_type": "code",
      "source": [
        "print(\"Training Accuracy = \", (r2_score(y_train,y_pred_train))*100,\"%\")\n",
        "print(\"Testing Accuracy = \", (r2_score(y_test,y_pred_test))*100,\"%\")"
      ],
      "metadata": {
        "colab": {
          "base_uri": "https://localhost:8080/"
        },
        "id": "WZTN6ISOX4nV",
        "outputId": "bf412049-49ee-4dd6-8706-08ea4cd061f2"
      },
      "execution_count": 37,
      "outputs": [
        {
          "output_type": "stream",
          "name": "stdout",
          "text": [
            "Training Accuracy =  59.15143507082949 %\n",
            "Testing Accuracy =  62.79928042400063 %\n"
          ]
        }
      ]
    },
    {
      "cell_type": "markdown",
      "source": [
        "# Model Bulding - Random Forest Regression"
      ],
      "metadata": {
        "id": "iHaZmijzY9zH"
      }
    },
    {
      "cell_type": "code",
      "source": [
        "from sklearn.ensemble import RandomForestRegressor\n",
        "model_2 = RandomForestRegressor()\n",
        "\n",
        "model_2.fit(x_train,y_train)\n",
        "\n",
        "y_pred_test_2 = model_2.predict(x_test)\n",
        "y_pred_train_2 = model_2.predict(x_train)"
      ],
      "metadata": {
        "id": "7h5czB6XYoSt"
      },
      "execution_count": 38,
      "outputs": []
    },
    {
      "cell_type": "code",
      "source": [
        "print(\"Training Accuracy = \", (r2_score(y_train,y_pred_train_2))*100,\"%\")\n",
        "print(\"Testing Accuracy = \", (r2_score(y_test,y_pred_test_2))*100,\"%\")"
      ],
      "metadata": {
        "colab": {
          "base_uri": "https://localhost:8080/"
        },
        "id": "vshCJjPLZajO",
        "outputId": "5faa4a5f-6a17-46e3-8969-d47bf19d3a12"
      },
      "execution_count": 39,
      "outputs": [
        {
          "output_type": "stream",
          "name": "stdout",
          "text": [
            "Training Accuracy =  96.96988973493733 %\n",
            "Testing Accuracy =  96.67953958141779 %\n"
          ]
        }
      ]
    }
  ]
}